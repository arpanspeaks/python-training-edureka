{
 "cells": [
  {
   "cell_type": "markdown",
   "id": "1060ea13",
   "metadata": {},
   "source": [
    "## Q1. Create a dog object that will inherit all the variables and methods of the parent class Animal and display it."
   ]
  },
  {
   "cell_type": "code",
   "execution_count": 15,
   "id": "6d4081f2",
   "metadata": {},
   "outputs": [
    {
     "name": "stdout",
     "output_type": "stream",
     "text": [
      "Tommy is a new dog.\n",
      "Age: 5, Color: black\n"
     ]
    }
   ],
   "source": [
    "class Animal(object):\n",
    "    def __init__(self, color, age):\n",
    "        self.color = color\n",
    "        self.age = age\n",
    "    def displayDetails(self):\n",
    "        print(f\"Age: {self.age}, Color: {self.color}\")\n",
    "        \n",
    "class Dog(Animal):\n",
    "    def __init__(self, name, color, age):\n",
    "        print(f\"{name} is a new dog.\")\n",
    "        Animal.__init__(self, color, age)\n",
    "        \n",
    "d = Dog(\"Tommy\", \"black\", 5)\n",
    "d.displayDetails()"
   ]
  },
  {
   "cell_type": "markdown",
   "id": "2fbee937",
   "metadata": {},
   "source": [
    "## Q2. Demonstrate the working of Polymorphism by creating two classes -    Car and Bike. Display the information like name, color, and number of wheels."
   ]
  },
  {
   "cell_type": "code",
   "execution_count": 19,
   "id": "591ebc50",
   "metadata": {},
   "outputs": [
    {
     "name": "stdout",
     "output_type": "stream",
     "text": [
      "Name: Honda Civic\n",
      "Color: Red\n",
      "Wheels: 4\n",
      "\n",
      "Name: Yamaha R6\n",
      "Color: Blue\n",
      "Wheels: 2\n",
      "\n"
     ]
    }
   ],
   "source": [
    "class Car:\n",
    "    def __init__(self, name, color):\n",
    "        self.name = name\n",
    "        self.color = color\n",
    "        self.wheels = 4\n",
    "\n",
    "    def display_info(self):\n",
    "        print(f\"Name: {self.name}\\nColor: {self.color}\\nWheels: {self.wheels}\")\n",
    "\n",
    "class Bike:\n",
    "    def __init__(self, name, color):\n",
    "        self.name = name\n",
    "        self.color = color\n",
    "        self.wheels = 2\n",
    "\n",
    "    def display_info(self):\n",
    "        print(f\"Name: {self.name}\\nColor: {self.color}\\nWheels: {self.wheels}\")\n",
    "\n",
    "car = Car(\"Honda Civic\", \"Red\")\n",
    "bike = Bike(\"Yamaha R6\", \"Blue\")\n",
    "            \n",
    "for veh in (car, bike):\n",
    "    veh.display_info()\n",
    "    print()"
   ]
  },
  {
   "cell_type": "markdown",
   "id": "5b618f50",
   "metadata": {},
   "source": [
    "## Q3. Create a list of tuples containing the 5 planets of our solar system along with their moons as - earth having 1 moon, Jupiter having 79 moons, Saturn having 82 moons, Uranus having 27 moons and Neptune having 14 moons. Sort the list according to the ascending number of moons along with the names of planet using Lambda function. Display both original and sorted list."
   ]
  },
  {
   "cell_type": "code",
   "execution_count": 20,
   "id": "3dfeaaa2",
   "metadata": {},
   "outputs": [],
   "source": [
    "def solution_3():\n",
    "    planets = [(\"Earth\", 1), (\"Jupiter\", 79), (\"Saturn\", 82), (\"Uranus\", 27), (\"Neptune\", 14)]\n",
    "    print(\"Original list: \", planets)\n",
    "    planets.sort(key = lambda x: x[1])\n",
    "    print(\"Sorted list: \", planets)"
   ]
  },
  {
   "cell_type": "code",
   "execution_count": 21,
   "id": "cf99c935",
   "metadata": {},
   "outputs": [
    {
     "name": "stdout",
     "output_type": "stream",
     "text": [
      "Original list:  [('Earth', 1), ('Jupiter', 79), ('Saturn', 82), ('Uranus', 27), ('Neptune', 14)]\n",
      "Sorted list:  [('Earth', 1), ('Neptune', 14), ('Uranus', 27), ('Jupiter', 79), ('Saturn', 82)]\n"
     ]
    }
   ],
   "source": [
    "solution_3()"
   ]
  },
  {
   "cell_type": "markdown",
   "id": "e1b6f583",
   "metadata": {},
   "source": [
    "## Q4. Create two functions - fillup and use, which uses a global variable as tank. Use the global variable in both the functions to return the quantity of fuel present in the tank after filling up the tank and after using the fuel of the tank. Show the working of two functions only. It is not necessary to display the outputs."
   ]
  },
  {
   "cell_type": "code",
   "execution_count": 25,
   "id": "50f0ac73",
   "metadata": {},
   "outputs": [],
   "source": [
    "tank = 0\n",
    "\n",
    "def fillup(fuel):\n",
    "    global tank\n",
    "    tank += fuel\n",
    "\n",
    "def use(fuel):\n",
    "    global tank\n",
    "    tank -= fuel\n",
    "\n",
    "def solution_4():\n",
    "    fillup(50)\n",
    "    print(tank)\n",
    "    use(20)\n",
    "    print(tank)"
   ]
  },
  {
   "cell_type": "code",
   "execution_count": 26,
   "id": "1bc31285",
   "metadata": {},
   "outputs": [
    {
     "name": "stdout",
     "output_type": "stream",
     "text": [
      "50\n",
      "30\n"
     ]
    }
   ],
   "source": [
    "solution_4()"
   ]
  },
  {
   "cell_type": "markdown",
   "id": "62226f10",
   "metadata": {},
   "source": [
    "## Q5. Write a program to depict the use of multiple inheritance. The program should contain 4 classes - class 4 should inherit from class 2 and class 3. Similarly, class 2 should inherit from class 1. Class 3 should inherit from class 1. Each class should have its own print statement."
   ]
  },
  {
   "cell_type": "code",
   "execution_count": 31,
   "id": "1a5001b3",
   "metadata": {},
   "outputs": [
    {
     "name": "stdout",
     "output_type": "stream",
     "text": [
      "This is class 1\n",
      "This is class 3\n",
      "This is class 2\n",
      "This is class 4\n"
     ]
    }
   ],
   "source": [
    "class class1:\n",
    "    def __init__(self):\n",
    "        print(\"This is class 1\")\n",
    "\n",
    "class class2(class1):\n",
    "    def __init__(self):\n",
    "        super().__init__()\n",
    "        print(\"This is class 2\")\n",
    "\n",
    "class class3(class1):\n",
    "    def __init__(self):\n",
    "        super().__init__()\n",
    "        print(\"This is class 3\")\n",
    "\n",
    "class class4(class2, class3):\n",
    "    def __init__(self):\n",
    "        super().__init__()\n",
    "        print(\"This is class 4\")\n",
    "\n",
    "c4 = class4()"
   ]
  },
  {
   "cell_type": "markdown",
   "id": "b99ad587",
   "metadata": {},
   "source": [
    "## Q6. Use Getter and Setter method to set the name and age of a person. Moreover, get the name and age of the same person."
   ]
  },
  {
   "cell_type": "code",
   "execution_count": 35,
   "id": "cca5e7a9",
   "metadata": {},
   "outputs": [
    {
     "name": "stdout",
     "output_type": "stream",
     "text": [
      "John\n",
      "30\n"
     ]
    }
   ],
   "source": [
    "class Person:\n",
    "    def __init__(self):\n",
    "        self._name = \"\"\n",
    "        self._age = 0\n",
    "        \n",
    "    def set_name(self, name:str) -> None:\n",
    "        self._name = name\n",
    "        \n",
    "    def set_age(self, age:int) -> None:\n",
    "        self._age = age\n",
    "    \n",
    "    def get_name(self) -> str:\n",
    "        return self._name\n",
    "    \n",
    "    def get_age(self) -> int:\n",
    "        return self._age\n",
    "    \n",
    "    \n",
    "person = Person()\n",
    "\n",
    "person.set_name(\"John\")\n",
    "person.set_age(30)\n",
    "\n",
    "print(person.get_name())\n",
    "print(person.get_age())\n"
   ]
  }
 ],
 "metadata": {
  "kernelspec": {
   "display_name": "Python 3 (ipykernel)",
   "language": "python",
   "name": "python3"
  },
  "language_info": {
   "codemirror_mode": {
    "name": "ipython",
    "version": 3
   },
   "file_extension": ".py",
   "mimetype": "text/x-python",
   "name": "python",
   "nbconvert_exporter": "python",
   "pygments_lexer": "ipython3",
   "version": "3.10.8"
  }
 },
 "nbformat": 4,
 "nbformat_minor": 5
}
