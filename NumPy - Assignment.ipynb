{
 "cells": [
  {
   "cell_type": "code",
   "execution_count": 1,
   "id": "652d985c",
   "metadata": {},
   "outputs": [],
   "source": [
    "import numpy as np"
   ]
  },
  {
   "cell_type": "markdown",
   "id": "637e32fe",
   "metadata": {},
   "source": [
    "# Q1. Convert the given list in to a numpy array and replace the odd elements with -2.\n",
    "### Lst = [[1,2,3], [4,5,6], [7,8,9]]"
   ]
  },
  {
   "cell_type": "code",
   "execution_count": 8,
   "id": "6e822eba",
   "metadata": {},
   "outputs": [],
   "source": [
    "def solution_1():\n",
    "    Lst = [[1,2,3], [4,5,6], [7,8,9]]\n",
    "    arr = np.array(Lst)\n",
    "    arr = np.where(arr & 1, -2, arr)\n",
    "    print(arr)"
   ]
  },
  {
   "cell_type": "code",
   "execution_count": 9,
   "id": "c66e457d",
   "metadata": {},
   "outputs": [
    {
     "name": "stdout",
     "output_type": "stream",
     "text": [
      "[[-2  2 -2]\n",
      " [ 4 -2  6]\n",
      " [-2  8 -2]]\n"
     ]
    }
   ],
   "source": [
    "solution_1()"
   ]
  },
  {
   "cell_type": "markdown",
   "id": "52a3c8e6",
   "metadata": {},
   "source": [
    "# Q2. In the numpy array given below print all the elements ranging from 8 to 15.\n",
    "### arr = [1,2,3,4,5,8,9,10,12,22,32,54,99,6,7]"
   ]
  },
  {
   "cell_type": "code",
   "execution_count": 20,
   "id": "68292b71",
   "metadata": {},
   "outputs": [],
   "source": [
    "def solution_2():\n",
    "    arr = np.array([1,2,3,4,5,8,9,10,12,22,32,54,99,6,7])\n",
    "    print(arr[7:16])"
   ]
  },
  {
   "cell_type": "code",
   "execution_count": 21,
   "id": "35bf6472",
   "metadata": {},
   "outputs": [
    {
     "name": "stdout",
     "output_type": "stream",
     "text": [
      "[10 12 22 32 54 99  6  7]\n"
     ]
    }
   ],
   "source": [
    "solution_2()"
   ]
  },
  {
   "cell_type": "markdown",
   "id": "d05731e9",
   "metadata": {},
   "source": [
    "# Q3. Create a 3*3 narray that includes numbers from 1 to 9 and swap columns 1 and 2."
   ]
  },
  {
   "cell_type": "code",
   "execution_count": 22,
   "id": "8baed002",
   "metadata": {},
   "outputs": [],
   "source": [
    "def solution_3():\n",
    "    arr = np.arange(1,10).reshape(3,3)\n",
    "    arr[:,[0, 1]] = arr[:,[1, 0]]\n",
    "    print(arr)"
   ]
  },
  {
   "cell_type": "code",
   "execution_count": 23,
   "id": "30d22f50",
   "metadata": {},
   "outputs": [
    {
     "name": "stdout",
     "output_type": "stream",
     "text": [
      "[[2 1 3]\n",
      " [5 4 6]\n",
      " [8 7 9]]\n"
     ]
    }
   ],
   "source": [
    "solution_3()"
   ]
  },
  {
   "cell_type": "markdown",
   "id": "195f5dd4",
   "metadata": {},
   "source": [
    "# Q4. In the given numpy array replace the NaN values with the average of columns.\n",
    "### arr = np.array([[1.3, 2.5, 3.6, np.nan], [2.6, 3.3, np.nan, 5.5], [2.1, 3.2, 5.4, 6.5]])"
   ]
  },
  {
   "cell_type": "code",
   "execution_count": 34,
   "id": "92a2026d",
   "metadata": {},
   "outputs": [],
   "source": [
    "def solution_4():\n",
    "    arr = np.array(\n",
    "        [\n",
    "            [1.3, 2.5, 3.6, np.nan],\n",
    "            [2.6, 3.3, np.nan, 5.5],\n",
    "            [2.1, 3.2, 5.4, 6.5]\n",
    "        ]\n",
    "    )\n",
    "    col_mean = np.nanmean(arr, axis=0)\n",
    "    arr = np.where(np.isnan(arr), col_mean, arr)\n",
    "    print(arr)"
   ]
  },
  {
   "cell_type": "code",
   "execution_count": 35,
   "id": "50abd4b9",
   "metadata": {},
   "outputs": [
    {
     "name": "stdout",
     "output_type": "stream",
     "text": [
      "[[1.3 2.5 3.6 6. ]\n",
      " [2.6 3.3 4.5 5.5]\n",
      " [2.1 3.2 5.4 6.5]]\n"
     ]
    }
   ],
   "source": [
    "solution_4()"
   ]
  },
  {
   "cell_type": "markdown",
   "id": "95752e54",
   "metadata": {},
   "source": [
    "# Q5. For the numpy array given below perform the following operation:\n",
    "## i. Convert the numpy array into a numpy matrix\n",
    "## ii. Sort the values in a matrix\n",
    "### arr = [[2,4,6],[1,3,5]]"
   ]
  },
  {
   "cell_type": "code",
   "execution_count": 36,
   "id": "66db2fb8",
   "metadata": {},
   "outputs": [],
   "source": [
    "def solution_5():\n",
    "    arr = np.array([[2,4,6],[1,3,5]])\n",
    "    matrix = np.mat(arr)\n",
    "    matrix = np.sort(matrix)\n",
    "    print(matrix)"
   ]
  },
  {
   "cell_type": "code",
   "execution_count": 37,
   "id": "e55534ff",
   "metadata": {},
   "outputs": [
    {
     "name": "stdout",
     "output_type": "stream",
     "text": [
      "[[2 4 6]\n",
      " [1 3 5]]\n"
     ]
    }
   ],
   "source": [
    "solution_5()"
   ]
  },
  {
   "cell_type": "code",
   "execution_count": null,
   "id": "fe1c8331",
   "metadata": {},
   "outputs": [],
   "source": []
  }
 ],
 "metadata": {
  "kernelspec": {
   "display_name": "Python 3 (ipykernel)",
   "language": "python",
   "name": "python3"
  },
  "language_info": {
   "codemirror_mode": {
    "name": "ipython",
    "version": 3
   },
   "file_extension": ".py",
   "mimetype": "text/x-python",
   "name": "python",
   "nbconvert_exporter": "python",
   "pygments_lexer": "ipython3",
   "version": "3.10.8"
  }
 },
 "nbformat": 4,
 "nbformat_minor": 5
}
