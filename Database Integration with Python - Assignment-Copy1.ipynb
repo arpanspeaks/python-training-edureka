{
 "cells": [
  {
   "cell_type": "markdown",
   "id": "74f7c3d4",
   "metadata": {},
   "source": [
    "### 1. Create a database called retails.\n",
    "### 2. Connect to the newly created database and create tables called customer and orders.\n",
    "### 3. Add a new ‘is_sale’ column in ‘orders’ table.\n",
    "### 4. Insert values into the customer table and display the contents.\n",
    "(1001, 34, 'Austin', 'male'), (1002, 37, 'Houston', 'male'), (1003, 25, 'Austin', 'female'), (1004, 28, 'Houston', 'female'), (1005, 22, 'Dallas', 'male')\n",
    "### 5. Show the details of customers who are located in Austin City.\n",
    "### 6. Group customers based on location and display the information.\n",
    "### 7. Group customers based on their gender and display the information.\n",
    "### 8. Insert values into the orders table and display the contents.\n",
    "('2022-10-1', 100.25, 1), ('2022-10-2',200.75, 2), ('2022-10-3',500.00,3), ('2022-10-3', 600.00,4), ('2022-10-4', 600.00,5)\n",
    "### 9. Show order details that were purchased on 2022-10-03.\n",
    "### 10. Show orders that have an order amount of more than 300.\n",
    "### 11. Show all orders placed on 2022-10-03 and represent it in sorted form with respect to the amount spent.\n",
    "### 12. Count the number of distinct days in the data.\n",
    "### 13. Count the orders grouped by date.\n",
    "### 14. Calculate the average order amount for all days."
   ]
  },
  {
   "cell_type": "code",
   "execution_count": 3,
   "id": "950c6bff",
   "metadata": {},
   "outputs": [],
   "source": [
    "import sqlite3\n",
    "\n",
    "conn = sqlite3.connect('retails.db')"
   ]
  },
  {
   "cell_type": "code",
   "execution_count": 4,
   "id": "5d0bb863",
   "metadata": {},
   "outputs": [],
   "source": [
    "conn = sqlite3.connect('retails.db')\n",
    "\n",
    "conn.execute('''CREATE TABLE customer\n",
    "             (cust_id INT PRIMARY KEY NOT NULL,\n",
    "             age INT NOT NULL,\n",
    "             city TEXT NOT NULL,\n",
    "             gender CHAR(6) NOT NULL);''')\n",
    "\n",
    "conn.execute('''CREATE TABLE orders\n",
    "             (order_id INT PRIMARY KEY NOT NULL,\n",
    "             order_date DATE NOT NULL,\n",
    "             amount FLOAT NOT NULL,\n",
    "             cust_id INT NOT NULL,\n",
    "             FOREIGN KEY (cust_id) REFERENCES customer(cust_id));''')\n",
    "\n",
    "conn.commit()\n",
    "conn.close()"
   ]
  },
  {
   "cell_type": "code",
   "execution_count": 7,
   "id": "d428506f",
   "metadata": {},
   "outputs": [],
   "source": [
    "conn = sqlite3.connect('retails.db')\n",
    "conn.execute(\"ALTER TABLE orders ADD COLUMN is_sale BOOLEAN\")\n",
    "conn.commit()\n",
    "conn.close()"
   ]
  },
  {
   "cell_type": "code",
   "execution_count": 8,
   "id": "57819b9b",
   "metadata": {},
   "outputs": [],
   "source": [
    "conn = sqlite3.connect('retails.db')\n",
    "conn.execute(\"INSERT INTO customer (cust_id, age, city, gender) VALUES (1001, 34, 'Austin', 'male')\")\n",
    "conn.execute(\"INSERT INTO customer (cust_id, age, city, gender) VALUES (1002, 37, 'Houston', 'male')\")\n",
    "conn.execute(\"INSERT INTO customer (cust_id, age, city, gender) VALUES (1003, 25, 'Austin', 'female')\")\n",
    "conn.execute(\"INSERT INTO customer (cust_id, age, city, gender) VALUES (1004, 28, 'Houston', 'female')\")\n",
    "conn.execute(\"INSERT INTO customer (cust_id, age, city, gender) VALUES (1005, 22, 'Dallas', 'male')\")\n",
    "conn.commit()\n",
    "\n",
    "cursor = conn.execute(\"SELECT * FROM customer\")\n",
    "for row in cursor:\n",
    "    print(row)\n",
    "\n",
    "conn.close()"
   ]
  },
  {
   "cell_type": "code",
   "execution_count": 9,
   "id": "10a76b7d",
   "metadata": {},
   "outputs": [],
   "source": [
    "conn = sqlite3.connect('retails.db')\n",
    "cursor = conn.execute(\"SELECT * FROM customer WHERE city='Austin'\")\n",
    "for row in cursor:\n",
    "    print(row)\n",
    "conn.close()"
   ]
  },
  {
   "cell_type": "code",
   "execution_count": 10,
   "id": "83301ea1",
   "metadata": {},
   "outputs": [],
   "source": [
    "conn = sqlite3.connect('retails.db')\n",
    "cursor = conn.execute(\"SELECT city, COUNT(*) as count FROM customer GROUP BY city\")\n",
    "for row in cursor:\n",
    "    print(row)\n",
    "conn.close()"
   ]
  },
  {
   "cell_type": "code",
   "execution_count": 11,
   "id": "b5ff0ac4",
   "metadata": {},
   "outputs": [],
   "source": [
    "grouped_gender = customer_table.groupby('gender')\n",
    "print(grouped_gender.count())"
   ]
  },
  {
   "cell_type": "code",
   "execution_count": 12,
   "id": "a68df991",
   "metadata": {},
   "outputs": [],
   "source": [
    "orders_data = [('2022-10-1', 100.25, 1), ('2022-10-2',200.75, 2), ('2022-10-3',500.00,3), ('2022-10-3', 600.00,4), ('2022-10-4', 600.00,5)]\n",
    "for data in orders_data:\n",
    "    cursor.execute(\"INSERT INTO orders (order_date,amount,customer_id) VALUES (?,?,?)\", data)\n",
    "connection.commit()\n",
    "cursor.execute(\"SELECT * FROM orders\")\n",
    "print(cursor.fetchall())"
   ]
  },
  {
   "cell_type": "code",
   "execution_count": 13,
   "id": "c1d72f63",
   "metadata": {},
   "outputs": [],
   "source": [
    "cursor.execute(\"SELECT * FROM orders WHERE order_date='2022-10-03'\")\n",
    "print(cursor.fetchall())"
   ]
  },
  {
   "cell_type": "code",
   "execution_count": 14,
   "id": "4118abd0",
   "metadata": {},
   "outputs": [],
   "source": [
    "cursor.execute(\"SELECT * FROM orders WHERE amount>300\")\n",
    "print(cursor.fetchall())"
   ]
  },
  {
   "cell_type": "code",
   "execution_count": 15,
   "id": "d927f83a",
   "metadata": {},
   "outputs": [],
   "source": [
    "cursor.execute(\"SELECT * FROM orders WHERE order_date='2022-10-03' ORDER BY amount DESC\")\n",
    "print(cursor.fetchall())"
   ]
  },
  {
   "cell_type": "code",
   "execution_count": 16,
   "id": "f6a86e3e",
   "metadata": {},
   "outputs": [],
   "source": [
    "cursor.execute(\"SELECT COUNT(DISTINCT order_date) FROM orders\")\n",
    "print(cursor.fetchone())"
   ]
  },
  {
   "cell_type": "code",
   "execution_count": 17,
   "id": "e18cce12",
   "metadata": {},
   "outputs": [],
   "source": [
    "cursor.execute(\"SELECT order_date, COUNT(*) FROM orders GROUP BY order_date\")\n",
    "print(cursor.fetchall())"
   ]
  },
  {
   "cell_type": "code",
   "execution_count": 18,
   "id": "b887d7c2",
   "metadata": {},
   "outputs": [],
   "source": [
    "cursor.execute(\"SELECT AVG(amount) FROM orders\")\n",
    "print(cursor.fetchone())"
   ]
  },
  {
   "cell_type": "code",
   "execution_count": 19,
   "id": "298f7e08",
   "metadata": {},
   "outputs": [],
   "source": [
    "connection.close()"
   ]
  }
 ],
 "metadata": {
  "kernelspec": {
   "display_name": "Python 3 (ipykernel)",
   "language": "python",
   "name": "python3"
  },
  "language_info": {
   "codemirror_mode": {
    "name": "ipython",
    "version": 3
   },
   "file_extension": ".py",
   "mimetype": "text/x-python",
   "name": "python",
   "nbconvert_exporter": "python",
   "pygments_lexer": "ipython3",
   "version": "3.10.8"
  }
 },
 "nbformat": 4,
 "nbformat_minor": 5
}
