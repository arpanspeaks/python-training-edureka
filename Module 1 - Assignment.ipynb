{
 "cells": [
  {
   "cell_type": "markdown",
   "id": "d6404a14",
   "metadata": {},
   "source": [
    "# Q1. Write a program to find the factors of a given number and check whether the factor is even or odd.\n",
    "### Hint: Use Loop with if-else statements"
   ]
  },
  {
   "cell_type": "code",
   "execution_count": 11,
   "id": "a1143742",
   "metadata": {},
   "outputs": [],
   "source": [
    "def solution_q1():\n",
    "    num = int(input(\"Enter an integer: \"));\n",
    "    print(f\"The factors of {num} are as follows:\")\n",
    "    for i in range(1, num + 1):\n",
    "        if not(num % i):\n",
    "            print(i, end=\" \")\n",
    "            if i & 1:\n",
    "                print(\"- odd\")\n",
    "            else:\n",
    "                print(\"- even\")"
   ]
  },
  {
   "cell_type": "code",
   "execution_count": 15,
   "id": "9cb69932",
   "metadata": {},
   "outputs": [
    {
     "name": "stdout",
     "output_type": "stream",
     "text": [
      "Enter an integer: 38\n",
      "The factors of 38 are as follows:\n",
      "1 - odd\n",
      "2 - even\n",
      "19 - odd\n",
      "38 - even\n"
     ]
    }
   ],
   "source": [
    "solution_q1()"
   ]
  },
  {
   "cell_type": "markdown",
   "id": "54becfee",
   "metadata": {},
   "source": [
    "# Q2. Write a code that accepts a sequence of words as input and prints the words in a sequence after sorting them alphabetically.\n",
    "### Hint: Use split() to split the string into a list and then apply sort()"
   ]
  },
  {
   "cell_type": "code",
   "execution_count": 25,
   "id": "a4fa88d5",
   "metadata": {},
   "outputs": [],
   "source": [
    "def solution_q2():\n",
    "    w = []\n",
    "    n = int(input(\"Enter number of words: \"));\n",
    "    for i in range(n):\n",
    "        w.append(input(\"Enter a word: \"))\n",
    "    w.sort()\n",
    "    print(w)"
   ]
  },
  {
   "cell_type": "code",
   "execution_count": 29,
   "id": "7b2210a8",
   "metadata": {},
   "outputs": [
    {
     "name": "stdout",
     "output_type": "stream",
     "text": [
      "Enter number of words: 10\n",
      "Enter a word: shah\n",
      "Enter a word: rukh\n",
      "Enter a word: khan\n",
      "Enter a word: is\n",
      "Enter a word: the\n",
      "Enter a word: greatest\n",
      "Enter a word: actor\n",
      "Enter a word: of\n",
      "Enter a word: all\n",
      "Enter a word: time\n",
      "['actor', 'all', 'greatest', 'is', 'khan', 'of', 'rukh', 'shah', 'the', 'time']\n"
     ]
    }
   ],
   "source": [
    "solution_q2()"
   ]
  },
  {
   "cell_type": "markdown",
   "id": "46aff9bd",
   "metadata": {},
   "source": [
    "# Q3. Write a program that will find all the numbers between 1000 and 3000 (both excluded) such that each digit of a number is an odd number. Print the number of such elements."
   ]
  },
  {
   "cell_type": "code",
   "execution_count": 38,
   "id": "cce7aa8d",
   "metadata": {},
   "outputs": [],
   "source": [
    "def checkDigits(num):\n",
    "    while(num):\n",
    "        if not((num % 10) & 1):\n",
    "            return False\n",
    "        num //= 10\n",
    "    return True\n",
    "\n",
    "def solution_q3(l1, l2):\n",
    "    res = []\n",
    "    for num in range(l1 + 1, l2):\n",
    "        if checkDigits(num):\n",
    "            res.append(num)\n",
    "    for n in res:\n",
    "        print(n, end=\"\\t\")"
   ]
  },
  {
   "cell_type": "code",
   "execution_count": 58,
   "id": "80fa0c38",
   "metadata": {},
   "outputs": [
    {
     "name": "stdout",
     "output_type": "stream",
     "text": [
      "1111\t1113\t1115\t1117\t1119\t1131\t1133\t1135\t1137\t1139\t1151\t1153\t1155\t1157\t1159\t1171\t1173\t1175\t1177\t1179\t1191\t1193\t1195\t1197\t1199\t1311\t1313\t1315\t1317\t1319\t1331\t1333\t1335\t1337\t1339\t1351\t1353\t1355\t1357\t1359\t1371\t1373\t1375\t1377\t1379\t1391\t1393\t1395\t1397\t1399\t1511\t1513\t1515\t1517\t1519\t1531\t1533\t1535\t1537\t1539\t1551\t1553\t1555\t1557\t1559\t1571\t1573\t1575\t1577\t1579\t1591\t1593\t1595\t1597\t1599\t1711\t1713\t1715\t1717\t1719\t1731\t1733\t1735\t1737\t1739\t1751\t1753\t1755\t1757\t1759\t1771\t1773\t1775\t1777\t1779\t1791\t1793\t1795\t1797\t1799\t1911\t1913\t1915\t1917\t1919\t1931\t1933\t1935\t1937\t1939\t1951\t1953\t1955\t1957\t1959\t1971\t1973\t1975\t1977\t1979\t1991\t1993\t1995\t1997\t1999\t"
     ]
    }
   ],
   "source": [
    "solution_q3(1000, 3000)"
   ]
  },
  {
   "cell_type": "markdown",
   "id": "7e9c0306",
   "metadata": {},
   "source": [
    "# Q4. Write a program that accepts a string and calculates the number of letters and digits.\n",
    "### Suppose if the entered string is: Edureka123\n",
    "### Then the output will be:\n",
    "### LETTERS :- 7\n",
    "### DIGITS :- 3"
   ]
  },
  {
   "cell_type": "code",
   "execution_count": 46,
   "id": "d4fe154d",
   "metadata": {},
   "outputs": [],
   "source": [
    "def solution_q4():\n",
    "    str = input(\"Enter the string: \")\n",
    "    l, d = 0, 0\n",
    "    for c in str:\n",
    "        if c.isdigit():\n",
    "            d += 1\n",
    "        elif c.isalpha():\n",
    "            l += 1\n",
    "    print(f\"LETTERS :- {l}\\nDIGITS :- {d}\")"
   ]
  },
  {
   "cell_type": "code",
   "execution_count": 47,
   "id": "a5063b91",
   "metadata": {},
   "outputs": [
    {
     "name": "stdout",
     "output_type": "stream",
     "text": [
      "Enter the string: Edureka123\n",
      "LETTERS :- 7\n",
      "DIGITS :- 3\n"
     ]
    }
   ],
   "source": [
    "solution_q4()"
   ]
  },
  {
   "cell_type": "markdown",
   "id": "09023225",
   "metadata": {},
   "source": [
    "# Q5. Design a code which will find whether the given number is Palindrome number or not."
   ]
  },
  {
   "cell_type": "code",
   "execution_count": 52,
   "id": "860c6d13",
   "metadata": {},
   "outputs": [],
   "source": [
    "# Not going with the easier string based approach\n",
    "\n",
    "def solution_q5():\n",
    "    num = int(input(\"Enter a positive integer: \"))\n",
    "    if num == reverseNum(num):\n",
    "        print(f\"{num} is a Palindrome\")\n",
    "    else:\n",
    "        print(f\"{num} is NOT a Palindrome\")\n",
    "              \n",
    "def reverseNum(num):\n",
    "    n = 0\n",
    "    while(num):\n",
    "        n = n * 10 + num % 10\n",
    "        num //= 10\n",
    "    return n"
   ]
  },
  {
   "cell_type": "code",
   "execution_count": 55,
   "id": "cbe017ef",
   "metadata": {},
   "outputs": [
    {
     "name": "stdout",
     "output_type": "stream",
     "text": [
      "Enter a positive integer: 123454321\n",
      "123454321 is a Palindrome\n"
     ]
    }
   ],
   "source": [
    "solution_q5()"
   ]
  },
  {
   "cell_type": "code",
   "execution_count": 56,
   "id": "8059b958",
   "metadata": {},
   "outputs": [
    {
     "name": "stdout",
     "output_type": "stream",
     "text": [
      "Enter a positive integer: 123456789\n",
      "123456789 is NOT a Palindrome\n"
     ]
    }
   ],
   "source": [
    "solution_q5()"
   ]
  },
  {
   "cell_type": "code",
   "execution_count": null,
   "id": "727944d8",
   "metadata": {},
   "outputs": [],
   "source": []
  }
 ],
 "metadata": {
  "kernelspec": {
   "display_name": "Python 3 (ipykernel)",
   "language": "python",
   "name": "python3"
  },
  "language_info": {
   "codemirror_mode": {
    "name": "ipython",
    "version": 3
   },
   "file_extension": ".py",
   "mimetype": "text/x-python",
   "name": "python",
   "nbconvert_exporter": "python",
   "pygments_lexer": "ipython3",
   "version": "3.10.8"
  }
 },
 "nbformat": 4,
 "nbformat_minor": 5
}
