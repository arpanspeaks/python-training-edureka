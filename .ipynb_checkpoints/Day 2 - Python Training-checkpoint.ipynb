{
 "cells": [
  {
   "cell_type": "markdown",
   "id": "33ccd39f",
   "metadata": {},
   "source": [
    "# Day 2"
   ]
  },
  {
   "cell_type": "markdown",
   "id": "ee1b5fef",
   "metadata": {},
   "source": [
    "### Skipped some topics at the start of day 2 in this notebook..."
   ]
  },
  {
   "cell_type": "markdown",
   "id": "b440a31c",
   "metadata": {},
   "source": [
    "## Numpy"
   ]
  },
  {
   "cell_type": "code",
   "execution_count": 11,
   "id": "61ef8624",
   "metadata": {},
   "outputs": [
    {
     "ename": "TypeError",
     "evalue": "unsupported operand type(s) for /: 'list' and 'list'",
     "output_type": "error",
     "traceback": [
      "\u001b[1;31m---------------------------------------------------------------------------\u001b[0m",
      "\u001b[1;31mTypeError\u001b[0m                                 Traceback (most recent call last)",
      "Cell \u001b[1;32mIn[11], line 3\u001b[0m\n\u001b[0;32m      1\u001b[0m distance \u001b[38;5;241m=\u001b[39m [\u001b[38;5;241m100\u001b[39m, \u001b[38;5;241m200\u001b[39m, \u001b[38;5;241m400\u001b[39m]\n\u001b[0;32m      2\u001b[0m time \u001b[38;5;241m=\u001b[39m [\u001b[38;5;241m12\u001b[39m, \u001b[38;5;241m30\u001b[39m, \u001b[38;5;241m45\u001b[39m]\n\u001b[1;32m----> 3\u001b[0m \u001b[43mdistance\u001b[49m\u001b[38;5;241;43m/\u001b[39;49m\u001b[43mtime\u001b[49m\n",
      "\u001b[1;31mTypeError\u001b[0m: unsupported operand type(s) for /: 'list' and 'list'"
     ]
    }
   ],
   "source": [
    "distance = [100, 200, 400]\n",
    "time = [12, 30, 45]\n",
    "distance/time"
   ]
  },
  {
   "cell_type": "code",
   "execution_count": 12,
   "id": "77c678bc",
   "metadata": {},
   "outputs": [
    {
     "name": "stdout",
     "output_type": "stream",
     "text": [
      "Requirement already satisfied: numpy in c:\\users\\arpan\\miniconda3\\lib\\site-packages (1.24.1)\n"
     ]
    }
   ],
   "source": [
    "import sys\n",
    "!{sys.executable} -m pip install numpy"
   ]
  },
  {
   "cell_type": "code",
   "execution_count": 13,
   "id": "1232fffa",
   "metadata": {},
   "outputs": [],
   "source": [
    "import numpy as np"
   ]
  },
  {
   "cell_type": "code",
   "execution_count": 14,
   "id": "e25571df",
   "metadata": {},
   "outputs": [
    {
     "data": {
      "text/plain": [
       "array([8.33333333, 6.66666667, 8.88888889])"
      ]
     },
     "execution_count": 14,
     "metadata": {},
     "output_type": "execute_result"
    }
   ],
   "source": [
    "np.array(distance)/np.array(time)"
   ]
  },
  {
   "cell_type": "markdown",
   "id": "979513dd",
   "metadata": {},
   "source": [
    "### Numpy Arrays"
   ]
  },
  {
   "cell_type": "code",
   "execution_count": 15,
   "id": "32721123",
   "metadata": {},
   "outputs": [],
   "source": [
    "## 1d array\n",
    "a1 = np.array([123, 45, 89, 76, 33])"
   ]
  },
  {
   "cell_type": "code",
   "execution_count": 16,
   "id": "4752d8d3",
   "metadata": {},
   "outputs": [
    {
     "data": {
      "text/plain": [
       "array([123,  45,  89,  76,  33])"
      ]
     },
     "execution_count": 16,
     "metadata": {},
     "output_type": "execute_result"
    }
   ],
   "source": [
    "a1"
   ]
  },
  {
   "cell_type": "code",
   "execution_count": 17,
   "id": "9f2359c4",
   "metadata": {},
   "outputs": [
    {
     "data": {
      "text/plain": [
       "numpy.ndarray"
      ]
     },
     "execution_count": 17,
     "metadata": {},
     "output_type": "execute_result"
    }
   ],
   "source": [
    "type(a1)"
   ]
  },
  {
   "cell_type": "code",
   "execution_count": 20,
   "id": "e8a128ab",
   "metadata": {},
   "outputs": [
    {
     "name": "stdout",
     "output_type": "stream",
     "text": [
      "1\n",
      "5\n",
      "int32\n",
      "(5,)\n",
      "4\n"
     ]
    }
   ],
   "source": [
    "print(a1.ndim)\n",
    "print(a1.size)\n",
    "print(a1.dtype)\n",
    "print(a1.shape)\n",
    "print(a1.itemsize)"
   ]
  },
  {
   "cell_type": "code",
   "execution_count": 19,
   "id": "47c8fd2b",
   "metadata": {},
   "outputs": [
    {
     "data": {
      "text/plain": [
       "array([223, 245, 389, 476, 533])"
      ]
     },
     "execution_count": 19,
     "metadata": {},
     "output_type": "execute_result"
    }
   ],
   "source": [
    "x = np.array([100, 200, 300, 400, 500])\n",
    "x += a1\n",
    "x"
   ]
  },
  {
   "cell_type": "code",
   "execution_count": 21,
   "id": "d768620e",
   "metadata": {},
   "outputs": [
    {
     "data": {
      "text/plain": [
       "array([[ 12, 120,  98,  43],\n",
       "       [ 20,  40,  60,  80],\n",
       "       [  1,   2,   3,   4]])"
      ]
     },
     "execution_count": 21,
     "metadata": {},
     "output_type": "execute_result"
    }
   ],
   "source": [
    "# 2d array\n",
    "a2 = np.array([[12, 120, 98, 43], [20, 40, 60, 80], [1, 2, 3, 4]])\n",
    "a2"
   ]
  },
  {
   "cell_type": "code",
   "execution_count": 22,
   "id": "0e28eb22",
   "metadata": {},
   "outputs": [
    {
     "name": "stdout",
     "output_type": "stream",
     "text": [
      "2\n",
      "12\n",
      "int32\n",
      "(3, 4)\n",
      "4\n"
     ]
    }
   ],
   "source": [
    "print(a2.ndim)\n",
    "print(a2.size)\n",
    "print(a2.dtype)\n",
    "print(a2.shape)\n",
    "print(a2.itemsize)"
   ]
  },
  {
   "cell_type": "code",
   "execution_count": 23,
   "id": "1c53e62d",
   "metadata": {},
   "outputs": [
    {
     "data": {
      "text/plain": [
       "89"
      ]
     },
     "execution_count": 23,
     "metadata": {},
     "output_type": "execute_result"
    }
   ],
   "source": [
    "a1[2]"
   ]
  },
  {
   "cell_type": "code",
   "execution_count": 24,
   "id": "b30fdb63",
   "metadata": {},
   "outputs": [
    {
     "data": {
      "text/plain": [
       "60"
      ]
     },
     "execution_count": 24,
     "metadata": {},
     "output_type": "execute_result"
    }
   ],
   "source": [
    "a2[1,2]"
   ]
  },
  {
   "cell_type": "code",
   "execution_count": 25,
   "id": "7a4cc135",
   "metadata": {},
   "outputs": [
    {
     "data": {
      "text/plain": [
       "array([[120,  98],\n",
       "       [ 40,  60]])"
      ]
     },
     "execution_count": 25,
     "metadata": {},
     "output_type": "execute_result"
    }
   ],
   "source": [
    "a2[0:2,1:3]"
   ]
  },
  {
   "cell_type": "code",
   "execution_count": 26,
   "id": "cf33aae4",
   "metadata": {},
   "outputs": [
    {
     "data": {
      "text/plain": [
       "array([[0., 0., 0.],\n",
       "       [0., 0., 0.],\n",
       "       [0., 0., 0.],\n",
       "       [0., 0., 0.]])"
      ]
     },
     "execution_count": 26,
     "metadata": {},
     "output_type": "execute_result"
    }
   ],
   "source": [
    "np.zeros((4,3))"
   ]
  },
  {
   "cell_type": "code",
   "execution_count": 27,
   "id": "c386620e",
   "metadata": {},
   "outputs": [
    {
     "data": {
      "text/plain": [
       "array([[1., 1., 1.],\n",
       "       [1., 1., 1.],\n",
       "       [1., 1., 1.],\n",
       "       [1., 1., 1.]])"
      ]
     },
     "execution_count": 27,
     "metadata": {},
     "output_type": "execute_result"
    }
   ],
   "source": [
    "np.ones((4,3))"
   ]
  },
  {
   "cell_type": "code",
   "execution_count": 30,
   "id": "a1915a4b",
   "metadata": {},
   "outputs": [
    {
     "data": {
      "text/plain": [
       "array([[3., 3., 3., 3.],\n",
       "       [3., 3., 3., 3.],\n",
       "       [3., 3., 3., 3.]])"
      ]
     },
     "execution_count": 30,
     "metadata": {},
     "output_type": "execute_result"
    }
   ],
   "source": [
    "a3 = np.ones((3,4)) * 3\n",
    "a3"
   ]
  },
  {
   "cell_type": "code",
   "execution_count": 31,
   "id": "389493d4",
   "metadata": {},
   "outputs": [
    {
     "data": {
      "text/plain": [
       "array([[ 12, 120,  98,  43],\n",
       "       [ 20,  40,  60,  80],\n",
       "       [  1,   2,   3,   4]])"
      ]
     },
     "execution_count": 31,
     "metadata": {},
     "output_type": "execute_result"
    }
   ],
   "source": [
    "a2"
   ]
  },
  {
   "cell_type": "code",
   "execution_count": 32,
   "id": "2c0ea0f8",
   "metadata": {},
   "outputs": [
    {
     "data": {
      "text/plain": [
       "array([[ 15., 123., 101.,  46.],\n",
       "       [ 23.,  43.,  63.,  83.],\n",
       "       [  4.,   5.,   6.,   7.]])"
      ]
     },
     "execution_count": 32,
     "metadata": {},
     "output_type": "execute_result"
    }
   ],
   "source": [
    "a2+a3"
   ]
  },
  {
   "cell_type": "code",
   "execution_count": 33,
   "id": "0bceb383",
   "metadata": {},
   "outputs": [],
   "source": [
    "x = np.array([[1,3],[4,5]])\n",
    "y = np.array([[0,-2],[-1,4]])"
   ]
  },
  {
   "cell_type": "code",
   "execution_count": 34,
   "id": "eb593e1a",
   "metadata": {},
   "outputs": [
    {
     "data": {
      "text/plain": [
       "array([[1, 3],\n",
       "       [4, 5]])"
      ]
     },
     "execution_count": 34,
     "metadata": {},
     "output_type": "execute_result"
    }
   ],
   "source": [
    "x"
   ]
  },
  {
   "cell_type": "code",
   "execution_count": 35,
   "id": "6782cd2a",
   "metadata": {},
   "outputs": [
    {
     "data": {
      "text/plain": [
       "array([[ 0, -2],\n",
       "       [-1,  4]])"
      ]
     },
     "execution_count": 35,
     "metadata": {},
     "output_type": "execute_result"
    }
   ],
   "source": [
    "y"
   ]
  },
  {
   "cell_type": "code",
   "execution_count": 36,
   "id": "83fc4185",
   "metadata": {},
   "outputs": [
    {
     "data": {
      "text/plain": [
       "array([[-3, 10],\n",
       "       [-5, 12]])"
      ]
     },
     "execution_count": 36,
     "metadata": {},
     "output_type": "execute_result"
    }
   ],
   "source": [
    "np.dot(x, y)"
   ]
  },
  {
   "cell_type": "code",
   "execution_count": 37,
   "id": "536d16ad",
   "metadata": {},
   "outputs": [
    {
     "data": {
      "text/plain": [
       "array([123,  45,  89,  76,  33])"
      ]
     },
     "execution_count": 37,
     "metadata": {},
     "output_type": "execute_result"
    }
   ],
   "source": [
    "a1"
   ]
  },
  {
   "cell_type": "code",
   "execution_count": 38,
   "id": "8689f729",
   "metadata": {},
   "outputs": [
    {
     "data": {
      "text/plain": [
       "123"
      ]
     },
     "execution_count": 38,
     "metadata": {},
     "output_type": "execute_result"
    }
   ],
   "source": [
    "a1.max()"
   ]
  },
  {
   "cell_type": "code",
   "execution_count": 39,
   "id": "1dd97a58",
   "metadata": {},
   "outputs": [
    {
     "data": {
      "text/plain": [
       "0"
      ]
     },
     "execution_count": 39,
     "metadata": {},
     "output_type": "execute_result"
    }
   ],
   "source": [
    "a1.argmax()"
   ]
  },
  {
   "cell_type": "code",
   "execution_count": 40,
   "id": "1ea8bd62",
   "metadata": {},
   "outputs": [
    {
     "data": {
      "text/plain": [
       "366"
      ]
     },
     "execution_count": 40,
     "metadata": {},
     "output_type": "execute_result"
    }
   ],
   "source": [
    "a1.sum()"
   ]
  },
  {
   "cell_type": "code",
   "execution_count": 41,
   "id": "7c4fb753",
   "metadata": {},
   "outputs": [
    {
     "data": {
      "text/plain": [
       "0"
      ]
     },
     "execution_count": 41,
     "metadata": {},
     "output_type": "execute_result"
    }
   ],
   "source": [
    "np.argmax(a1)"
   ]
  },
  {
   "cell_type": "code",
   "execution_count": 42,
   "id": "6527c995",
   "metadata": {},
   "outputs": [
    {
     "data": {
      "text/plain": [
       "array([False, False, False, False, False])"
      ]
     },
     "execution_count": 42,
     "metadata": {},
     "output_type": "execute_result"
    }
   ],
   "source": [
    "np.isnan(a1)"
   ]
  },
  {
   "cell_type": "code",
   "execution_count": 43,
   "id": "e6c84c44",
   "metadata": {},
   "outputs": [
    {
     "data": {
      "text/plain": [
       "array([False, False, False, False, False])"
      ]
     },
     "execution_count": 43,
     "metadata": {},
     "output_type": "execute_result"
    }
   ],
   "source": [
    "np.isinf(a1)"
   ]
  },
  {
   "cell_type": "code",
   "execution_count": 44,
   "id": "9604b808",
   "metadata": {},
   "outputs": [
    {
     "data": {
      "text/plain": [
       "2"
      ]
     },
     "execution_count": 44,
     "metadata": {},
     "output_type": "execute_result"
    }
   ],
   "source": [
    "np.mod(11, 3)"
   ]
  },
  {
   "cell_type": "code",
   "execution_count": 45,
   "id": "bfcedfca",
   "metadata": {},
   "outputs": [
    {
     "data": {
      "text/plain": [
       "array([[ 12, 120,  98,  43],\n",
       "       [ 20,  40,  60,  80],\n",
       "       [  1,   2,   3,   4]])"
      ]
     },
     "execution_count": 45,
     "metadata": {},
     "output_type": "execute_result"
    }
   ],
   "source": [
    "a2"
   ]
  },
  {
   "cell_type": "code",
   "execution_count": 46,
   "id": "572a2d7c",
   "metadata": {},
   "outputs": [
    {
     "data": {
      "text/plain": [
       "483"
      ]
     },
     "execution_count": 46,
     "metadata": {},
     "output_type": "execute_result"
    }
   ],
   "source": [
    "a2.sum()"
   ]
  },
  {
   "cell_type": "code",
   "execution_count": 47,
   "id": "67169bbe",
   "metadata": {},
   "outputs": [
    {
     "data": {
      "text/plain": [
       "array([ 33, 162, 161, 127])"
      ]
     },
     "execution_count": 47,
     "metadata": {},
     "output_type": "execute_result"
    }
   ],
   "source": [
    "a2.sum(axis=0)"
   ]
  },
  {
   "cell_type": "code",
   "execution_count": 48,
   "id": "6063a375",
   "metadata": {},
   "outputs": [
    {
     "data": {
      "text/plain": [
       "array([273, 200,  10])"
      ]
     },
     "execution_count": 48,
     "metadata": {},
     "output_type": "execute_result"
    }
   ],
   "source": [
    "a2.sum(axis=1)"
   ]
  },
  {
   "cell_type": "code",
   "execution_count": 49,
   "id": "967dd670",
   "metadata": {},
   "outputs": [
    {
     "data": {
      "text/plain": [
       "array([123,  45,  89,  76,  33])"
      ]
     },
     "execution_count": 49,
     "metadata": {},
     "output_type": "execute_result"
    }
   ],
   "source": [
    "a1"
   ]
  },
  {
   "cell_type": "code",
   "execution_count": 51,
   "id": "609e550e",
   "metadata": {},
   "outputs": [
    {
     "data": {
      "text/plain": [
       "array(['High', 'Low', 'High', 'Low', 'Low'], dtype='<U4')"
      ]
     },
     "execution_count": 51,
     "metadata": {},
     "output_type": "execute_result"
    }
   ],
   "source": [
    "np.where(a1 > 80, \"High\", \"Low\")"
   ]
  },
  {
   "cell_type": "code",
   "execution_count": 57,
   "id": "1d110b7e",
   "metadata": {},
   "outputs": [
    {
     "data": {
      "text/plain": [
       "False"
      ]
     },
     "execution_count": 57,
     "metadata": {},
     "output_type": "execute_result"
    }
   ],
   "source": [
    "x = [12, -2, 1, 0]\n",
    "np.all(x)"
   ]
  },
  {
   "cell_type": "code",
   "execution_count": 58,
   "id": "42494d13",
   "metadata": {},
   "outputs": [
    {
     "data": {
      "text/plain": [
       "True"
      ]
     },
     "execution_count": 58,
     "metadata": {},
     "output_type": "execute_result"
    }
   ],
   "source": [
    "y = [True, True]\n",
    "np.all(y)"
   ]
  },
  {
   "cell_type": "code",
   "execution_count": 59,
   "id": "5c046d5f",
   "metadata": {},
   "outputs": [
    {
     "data": {
      "text/plain": [
       "False"
      ]
     },
     "execution_count": 59,
     "metadata": {},
     "output_type": "execute_result"
    }
   ],
   "source": [
    "z = [True, False]\n",
    "np.all(z)"
   ]
  },
  {
   "cell_type": "code",
   "execution_count": 60,
   "id": "3a6db702",
   "metadata": {},
   "outputs": [
    {
     "data": {
      "text/plain": [
       "array([123,  45,  89,  76,  33])"
      ]
     },
     "execution_count": 60,
     "metadata": {},
     "output_type": "execute_result"
    }
   ],
   "source": [
    "a1"
   ]
  },
  {
   "cell_type": "code",
   "execution_count": 61,
   "id": "c430ec6b",
   "metadata": {},
   "outputs": [
    {
     "data": {
      "text/plain": [
       "array([ 12, 120,  98,  43])"
      ]
     },
     "execution_count": 61,
     "metadata": {},
     "output_type": "execute_result"
    }
   ],
   "source": [
    "a2[0]"
   ]
  },
  {
   "cell_type": "code",
   "execution_count": 63,
   "id": "77535849",
   "metadata": {},
   "outputs": [],
   "source": [
    "z = np.concatenate([a1, a2[0]])"
   ]
  },
  {
   "cell_type": "code",
   "execution_count": 64,
   "id": "85be2e70",
   "metadata": {},
   "outputs": [
    {
     "data": {
      "text/plain": [
       "array([123,  45,  89,  76,  33,  12, 120,  98,  43])"
      ]
     },
     "execution_count": 64,
     "metadata": {},
     "output_type": "execute_result"
    }
   ],
   "source": [
    "z"
   ]
  },
  {
   "cell_type": "code",
   "execution_count": 71,
   "id": "bd1c4675",
   "metadata": {},
   "outputs": [],
   "source": [
    "ind = np.array([[1,4],[2,6]])"
   ]
  },
  {
   "cell_type": "code",
   "execution_count": 72,
   "id": "a3f8288f",
   "metadata": {},
   "outputs": [
    {
     "data": {
      "text/plain": [
       "array([[1, 4],\n",
       "       [2, 6]])"
      ]
     },
     "execution_count": 72,
     "metadata": {},
     "output_type": "execute_result"
    }
   ],
   "source": [
    "ind"
   ]
  },
  {
   "cell_type": "code",
   "execution_count": 73,
   "id": "50b99840",
   "metadata": {},
   "outputs": [
    {
     "data": {
      "text/plain": [
       "array([[ 45,  33],\n",
       "       [ 89, 120]])"
      ]
     },
     "execution_count": 73,
     "metadata": {},
     "output_type": "execute_result"
    }
   ],
   "source": [
    "z[ind]"
   ]
  },
  {
   "cell_type": "code",
   "execution_count": 74,
   "id": "f13a13ba",
   "metadata": {},
   "outputs": [
    {
     "data": {
      "text/plain": [
       "array([[ 12, 120,  98,  43],\n",
       "       [ 20,  40,  60,  80],\n",
       "       [  1,   2,   3,   4]])"
      ]
     },
     "execution_count": 74,
     "metadata": {},
     "output_type": "execute_result"
    }
   ],
   "source": [
    "a2"
   ]
  },
  {
   "cell_type": "code",
   "execution_count": 75,
   "id": "1d0851e2",
   "metadata": {},
   "outputs": [
    {
     "data": {
      "text/plain": [
       "array([[ 12, 120],\n",
       "       [ 98,  43],\n",
       "       [ 20,  40],\n",
       "       [ 60,  80],\n",
       "       [  1,   2],\n",
       "       [  3,   4]])"
      ]
     },
     "execution_count": 75,
     "metadata": {},
     "output_type": "execute_result"
    }
   ],
   "source": [
    "a2.reshape(6,2)"
   ]
  },
  {
   "cell_type": "code",
   "execution_count": 76,
   "id": "29f3a077",
   "metadata": {},
   "outputs": [
    {
     "data": {
      "text/plain": [
       "array([[ 12, 120,  98,  43],\n",
       "       [ 20,  40,  60,  80],\n",
       "       [  1,   2,   3,   4]])"
      ]
     },
     "execution_count": 76,
     "metadata": {},
     "output_type": "execute_result"
    }
   ],
   "source": [
    "a2"
   ]
  },
  {
   "cell_type": "code",
   "execution_count": 77,
   "id": "ec90caee",
   "metadata": {},
   "outputs": [],
   "source": [
    "a2.resize(6,2)"
   ]
  },
  {
   "cell_type": "code",
   "execution_count": 78,
   "id": "bb26a804",
   "metadata": {},
   "outputs": [
    {
     "data": {
      "text/plain": [
       "array([[ 12, 120],\n",
       "       [ 98,  43],\n",
       "       [ 20,  40],\n",
       "       [ 60,  80],\n",
       "       [  1,   2],\n",
       "       [  3,   4]])"
      ]
     },
     "execution_count": 78,
     "metadata": {},
     "output_type": "execute_result"
    }
   ],
   "source": [
    "a2"
   ]
  },
  {
   "cell_type": "code",
   "execution_count": 79,
   "id": "07d9b694",
   "metadata": {},
   "outputs": [
    {
     "name": "stdout",
     "output_type": "stream",
     "text": [
      "[[1 3]\n",
      " [4 5]]\n",
      "[[ 0 -2]\n",
      " [-1  4]]\n"
     ]
    }
   ],
   "source": [
    "x = np.array([[1,3],[4,5]])\n",
    "y = np.array([[0,-2],[-1,4]])\n",
    "print(x)\n",
    "print(y)"
   ]
  },
  {
   "cell_type": "code",
   "execution_count": 80,
   "id": "523163e1",
   "metadata": {},
   "outputs": [
    {
     "data": {
      "text/plain": [
       "array([[ 1,  3],\n",
       "       [ 4,  5],\n",
       "       [ 0, -2],\n",
       "       [-1,  4]])"
      ]
     },
     "execution_count": 80,
     "metadata": {},
     "output_type": "execute_result"
    }
   ],
   "source": [
    "np.concatenate([x,y])"
   ]
  },
  {
   "cell_type": "code",
   "execution_count": 81,
   "id": "a44b5571",
   "metadata": {},
   "outputs": [
    {
     "data": {
      "text/plain": [
       "array([[ 1,  3],\n",
       "       [ 4,  5],\n",
       "       [ 0, -2],\n",
       "       [-1,  4]])"
      ]
     },
     "execution_count": 81,
     "metadata": {},
     "output_type": "execute_result"
    }
   ],
   "source": [
    "np.concatenate([x,y], axis=0)"
   ]
  },
  {
   "cell_type": "code",
   "execution_count": 82,
   "id": "6d766f6c",
   "metadata": {},
   "outputs": [
    {
     "data": {
      "text/plain": [
       "array([[ 1,  3,  0, -2],\n",
       "       [ 4,  5, -1,  4]])"
      ]
     },
     "execution_count": 82,
     "metadata": {},
     "output_type": "execute_result"
    }
   ],
   "source": [
    "np.concatenate([x,y], axis=1)"
   ]
  },
  {
   "cell_type": "code",
   "execution_count": 84,
   "id": "0c0f175a",
   "metadata": {},
   "outputs": [
    {
     "data": {
      "text/plain": [
       "array([[ 1,  3,  0, -2],\n",
       "       [ 4,  5, -1,  4]])"
      ]
     },
     "execution_count": 84,
     "metadata": {},
     "output_type": "execute_result"
    }
   ],
   "source": [
    "np.hstack((x,y))"
   ]
  },
  {
   "cell_type": "code",
   "execution_count": 85,
   "id": "d11c1042",
   "metadata": {},
   "outputs": [
    {
     "data": {
      "text/plain": [
       "array([[ 1,  3],\n",
       "       [ 4,  5],\n",
       "       [ 0, -2],\n",
       "       [-1,  4]])"
      ]
     },
     "execution_count": 85,
     "metadata": {},
     "output_type": "execute_result"
    }
   ],
   "source": [
    "np.vstack((x,y))"
   ]
  },
  {
   "cell_type": "code",
   "execution_count": 86,
   "id": "2f882f08",
   "metadata": {},
   "outputs": [
    {
     "data": {
      "text/plain": [
       "array([[ 12, 120],\n",
       "       [ 98,  43],\n",
       "       [ 20,  40],\n",
       "       [ 60,  80],\n",
       "       [  1,   2],\n",
       "       [  3,   4]])"
      ]
     },
     "execution_count": 86,
     "metadata": {},
     "output_type": "execute_result"
    }
   ],
   "source": [
    "a2"
   ]
  },
  {
   "cell_type": "code",
   "execution_count": 87,
   "id": "1aba7dde",
   "metadata": {},
   "outputs": [
    {
     "data": {
      "text/plain": [
       "[array([[12],\n",
       "        [98],\n",
       "        [20],\n",
       "        [60],\n",
       "        [ 1],\n",
       "        [ 3]]),\n",
       " array([[120],\n",
       "        [ 43],\n",
       "        [ 40],\n",
       "        [ 80],\n",
       "        [  2],\n",
       "        [  4]])]"
      ]
     },
     "execution_count": 87,
     "metadata": {},
     "output_type": "execute_result"
    }
   ],
   "source": [
    "np.hsplit(a2, 2)"
   ]
  },
  {
   "cell_type": "code",
   "execution_count": 95,
   "id": "583ad3c9",
   "metadata": {},
   "outputs": [
    {
     "data": {
      "text/plain": [
       "[array([[ 12, 120],\n",
       "        [ 98,  43],\n",
       "        [ 20,  40]]),\n",
       " array([[60, 80],\n",
       "        [ 1,  2],\n",
       "        [ 3,  4]])]"
      ]
     },
     "execution_count": 95,
     "metadata": {},
     "output_type": "execute_result"
    }
   ],
   "source": [
    "np.vsplit(a2, 2)"
   ]
  },
  {
   "cell_type": "code",
   "execution_count": null,
   "id": "e7460b5c",
   "metadata": {},
   "outputs": [],
   "source": []
  },
  {
   "cell_type": "markdown",
   "id": "75508a57",
   "metadata": {},
   "source": [
    "### File handling using Numpy"
   ]
  },
  {
   "cell_type": "code",
   "execution_count": 97,
   "id": "ebf5d45f",
   "metadata": {},
   "outputs": [
    {
     "data": {
      "text/plain": [
       "array([[ 12, 120],\n",
       "       [ 98,  43],\n",
       "       [ 20,  40],\n",
       "       [ 60,  80],\n",
       "       [  1,   2],\n",
       "       [  3,   4]])"
      ]
     },
     "execution_count": 97,
     "metadata": {},
     "output_type": "execute_result"
    }
   ],
   "source": [
    "a2"
   ]
  },
  {
   "cell_type": "code",
   "execution_count": 99,
   "id": "2ceddaab",
   "metadata": {},
   "outputs": [],
   "source": [
    "np.save(\"array_data\", a2)"
   ]
  },
  {
   "cell_type": "code",
   "execution_count": 100,
   "id": "d9d7e65b",
   "metadata": {},
   "outputs": [],
   "source": [
    "myarray = np.load(\"array_data.npy\")"
   ]
  },
  {
   "cell_type": "code",
   "execution_count": 101,
   "id": "a1e16ffb",
   "metadata": {},
   "outputs": [
    {
     "data": {
      "text/plain": [
       "array([[ 12, 120],\n",
       "       [ 98,  43],\n",
       "       [ 20,  40],\n",
       "       [ 60,  80],\n",
       "       [  1,   2],\n",
       "       [  3,   4]])"
      ]
     },
     "execution_count": 101,
     "metadata": {},
     "output_type": "execute_result"
    }
   ],
   "source": [
    "myarray"
   ]
  },
  {
   "cell_type": "code",
   "execution_count": null,
   "id": "132ddb6f",
   "metadata": {},
   "outputs": [],
   "source": []
  },
  {
   "cell_type": "markdown",
   "id": "7d815d1e",
   "metadata": {},
   "source": [
    "### Image handling using Numpy"
   ]
  },
  {
   "cell_type": "code",
   "execution_count": 103,
   "id": "286d6754",
   "metadata": {},
   "outputs": [
    {
     "name": "stdout",
     "output_type": "stream",
     "text": [
      "Collecting opencv-python\n",
      "  Downloading opencv_python-4.7.0.68-cp37-abi3-win_amd64.whl (38.2 MB)\n",
      "     ---------------------------------------- 38.2/38.2 MB 8.6 MB/s eta 0:00:00\n",
      "Requirement already satisfied: numpy>=1.17.3 in c:\\users\\arpan\\miniconda3\\lib\\site-packages (from opencv-python) (1.24.1)\n",
      "Installing collected packages: opencv-python\n",
      "Successfully installed opencv-python-4.7.0.68\n",
      "Note: you may need to restart the kernel to use updated packages.\n"
     ]
    }
   ],
   "source": [
    "pip install opencv-python"
   ]
  },
  {
   "cell_type": "code",
   "execution_count": 104,
   "id": "5f114149",
   "metadata": {},
   "outputs": [],
   "source": [
    "import cv2"
   ]
  },
  {
   "cell_type": "code",
   "execution_count": 105,
   "id": "c230eb4c",
   "metadata": {},
   "outputs": [],
   "source": [
    "img = cv2.imread(\"mountain.jpg\")"
   ]
  },
  {
   "cell_type": "code",
   "execution_count": 106,
   "id": "0f382bc7",
   "metadata": {},
   "outputs": [
    {
     "data": {
      "text/plain": [
       "array([[[177, 168, 148],\n",
       "        [129, 120, 100],\n",
       "        [121, 107,  88],\n",
       "        ...,\n",
       "        [ 62,  66,  61],\n",
       "        [ 62,  63,  59],\n",
       "        [ 47,  48,  44]],\n",
       "\n",
       "       [[211, 202, 182],\n",
       "        [222, 213, 193],\n",
       "        [179, 168, 148],\n",
       "        ...,\n",
       "        [ 80,  84,  79],\n",
       "        [ 61,  62,  58],\n",
       "        [ 77,  78,  74]],\n",
       "\n",
       "       [[209, 200, 180],\n",
       "        [219, 210, 190],\n",
       "        [196, 186, 168],\n",
       "        ...,\n",
       "        [ 73,  76,  74],\n",
       "        [ 71,  74,  72],\n",
       "        [ 67,  70,  68]],\n",
       "\n",
       "       ...,\n",
       "\n",
       "       [[  1,  34,  30],\n",
       "        [  0,  25,  19],\n",
       "        [  1,  35,  28],\n",
       "        ...,\n",
       "        [ 80, 176, 165],\n",
       "        [ 18, 137, 129],\n",
       "        [ 62, 191, 186]],\n",
       "\n",
       "       [[  0,  19,  16],\n",
       "        [  0,  27,  24],\n",
       "        [  0,  32,  31],\n",
       "        ...,\n",
       "        [ 51, 157, 144],\n",
       "        [ 79, 201, 195],\n",
       "        [ 63, 194, 191]],\n",
       "\n",
       "       [[ 35,  91,  86],\n",
       "        [ 85, 138, 135],\n",
       "        [ 79, 129, 129],\n",
       "        ...,\n",
       "        [  0,  91,  77],\n",
       "        [ 38, 164, 158],\n",
       "        [ 66, 199, 196]]], dtype=uint8)"
      ]
     },
     "execution_count": 106,
     "metadata": {},
     "output_type": "execute_result"
    }
   ],
   "source": [
    "img"
   ]
  },
  {
   "cell_type": "code",
   "execution_count": 107,
   "id": "4844361e",
   "metadata": {},
   "outputs": [
    {
     "data": {
      "text/plain": [
       "(440, 800, 3)"
      ]
     },
     "execution_count": 107,
     "metadata": {},
     "output_type": "execute_result"
    }
   ],
   "source": [
    "img.shape"
   ]
  },
  {
   "cell_type": "code",
   "execution_count": null,
   "id": "1ce5bb5a",
   "metadata": {},
   "outputs": [],
   "source": [
    "cv2.imshow(\"Orig\",img)\n",
    "cv2.imshow(\"Enhanced\",img-2)\n",
    "cv2.waitKey(0)\n",
    "cv2.destroyAllWindows()"
   ]
  }
 ],
 "metadata": {
  "kernelspec": {
   "display_name": "Python 3 (ipykernel)",
   "language": "python",
   "name": "python3"
  },
  "language_info": {
   "codemirror_mode": {
    "name": "ipython",
    "version": 3
   },
   "file_extension": ".py",
   "mimetype": "text/x-python",
   "name": "python",
   "nbconvert_exporter": "python",
   "pygments_lexer": "ipython3",
   "version": "3.10.8"
  }
 },
 "nbformat": 4,
 "nbformat_minor": 5
}
