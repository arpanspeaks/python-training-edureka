{
 "cells": [
  {
   "cell_type": "markdown",
   "id": "48905482",
   "metadata": {},
   "source": [
    "# Day 1 : Python"
   ]
  },
  {
   "cell_type": "code",
   "execution_count": 6,
   "id": "33e51b5f",
   "metadata": {},
   "outputs": [
    {
     "name": "stdout",
     "output_type": "stream",
     "text": [
      "Hi! How are you?\n"
     ]
    }
   ],
   "source": [
    "print(\"Hi! How are you?\")"
   ]
  },
  {
   "cell_type": "code",
   "execution_count": 7,
   "id": "ceae673b",
   "metadata": {
    "scrolled": true
   },
   "outputs": [
    {
     "data": {
      "text/plain": [
       "1625"
      ]
     },
     "execution_count": 7,
     "metadata": {},
     "output_type": "execute_result"
    }
   ],
   "source": [
    "25*65"
   ]
  },
  {
   "cell_type": "markdown",
   "id": "dd7da6c8",
   "metadata": {},
   "source": [
    "# Python Program Example"
   ]
  },
  {
   "cell_type": "code",
   "execution_count": 8,
   "id": "aad3650e",
   "metadata": {},
   "outputs": [
    {
     "name": "stdout",
     "output_type": "stream",
     "text": [
      "Enter your name: Arpan\n"
     ]
    }
   ],
   "source": [
    "x = input(\"Enter your name: \")"
   ]
  },
  {
   "cell_type": "code",
   "execution_count": 9,
   "id": "f93b2e94",
   "metadata": {},
   "outputs": [
    {
     "data": {
      "text/plain": [
       "'Arpan'"
      ]
     },
     "execution_count": 9,
     "metadata": {},
     "output_type": "execute_result"
    }
   ],
   "source": [
    "x"
   ]
  },
  {
   "cell_type": "code",
   "execution_count": 12,
   "id": "0a3ef9e0",
   "metadata": {},
   "outputs": [
    {
     "name": "stdout",
     "output_type": "stream",
     "text": [
      "Enter a number: 121\n",
      "11.0\n"
     ]
    }
   ],
   "source": [
    "# Square root of a number\n",
    "num = float(input(\"Enter a number: \"))\n",
    "res = num ** 0.5\n",
    "print(res)"
   ]
  },
  {
   "cell_type": "code",
   "execution_count": 13,
   "id": "3a70b16f",
   "metadata": {},
   "outputs": [
    {
     "data": {
      "text/plain": [
       "int"
      ]
     },
     "execution_count": 13,
     "metadata": {},
     "output_type": "execute_result"
    }
   ],
   "source": [
    "x = 20\n",
    "type(x)"
   ]
  },
  {
   "cell_type": "code",
   "execution_count": 14,
   "id": "6d19cb75",
   "metadata": {},
   "outputs": [],
   "source": [
    "z = 20"
   ]
  },
  {
   "cell_type": "code",
   "execution_count": 15,
   "id": "f99e985e",
   "metadata": {},
   "outputs": [
    {
     "name": "stdout",
     "output_type": "stream",
     "text": [
      "1936012411728\n",
      "1936012411728\n"
     ]
    }
   ],
   "source": [
    "print(id(x))\n",
    "print(id(z))"
   ]
  },
  {
   "cell_type": "code",
   "execution_count": 16,
   "id": "fba69ae9",
   "metadata": {},
   "outputs": [
    {
     "name": "stdout",
     "output_type": "stream",
     "text": [
      "Arpan Sardar\n"
     ]
    }
   ],
   "source": [
    "print(\"Arpan\", end=\" \")\n",
    "print(\"Sardar\")"
   ]
  },
  {
   "cell_type": "code",
   "execution_count": 18,
   "id": "ad492d25",
   "metadata": {},
   "outputs": [],
   "source": [
    "fname = \"Arpan\"\n",
    "lname = \"Sardar\""
   ]
  },
  {
   "cell_type": "code",
   "execution_count": null,
   "id": "b7b07613",
   "metadata": {},
   "outputs": [],
   "source": []
  }
 ],
 "metadata": {
  "kernelspec": {
   "display_name": "Python 3 (ipykernel)",
   "language": "python",
   "name": "python3"
  },
  "language_info": {
   "codemirror_mode": {
    "name": "ipython",
    "version": 3
   },
   "file_extension": ".py",
   "mimetype": "text/x-python",
   "name": "python",
   "nbconvert_exporter": "python",
   "pygments_lexer": "ipython3",
   "version": "3.10.8"
  }
 },
 "nbformat": 4,
 "nbformat_minor": 5
}
