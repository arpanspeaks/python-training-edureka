{
 "cells": [
  {
   "cell_type": "code",
   "execution_count": 1,
   "id": "29451d01",
   "metadata": {},
   "outputs": [
    {
     "name": "stdout",
     "output_type": "stream",
     "text": [
      "Collecting bs4\n",
      "  Downloading bs4-0.0.1.tar.gz (1.1 kB)\n",
      "  Preparing metadata (setup.py): started\n",
      "  Preparing metadata (setup.py): finished with status 'done'\n",
      "Requirement already satisfied: beautifulsoup4 in c:\\users\\arpan\\miniconda3\\lib\\site-packages (from bs4) (4.11.1)\n",
      "Requirement already satisfied: soupsieve>1.2 in c:\\users\\arpan\\miniconda3\\lib\\site-packages (from beautifulsoup4->bs4) (2.3.2.post1)\n",
      "Building wheels for collected packages: bs4\n",
      "  Building wheel for bs4 (setup.py): started\n",
      "  Building wheel for bs4 (setup.py): finished with status 'done'\n",
      "  Created wheel for bs4: filename=bs4-0.0.1-py3-none-any.whl size=1257 sha256=3817973a336f54595eb4fc4b181e853a5f954b20555734b6b611d1b5f68e55ad\n",
      "  Stored in directory: c:\\users\\arpan\\appdata\\local\\pip\\cache\\wheels\\e4\\62\\1d\\d4d1bc4f33350ff84227f89b258edb552d604138e3739f5c83\n",
      "Successfully built bs4\n",
      "Installing collected packages: bs4\n",
      "Successfully installed bs4-0.0.1\n"
     ]
    }
   ],
   "source": [
    "!pip install bs4"
   ]
  },
  {
   "cell_type": "code",
   "execution_count": 2,
   "id": "a61d4da5",
   "metadata": {},
   "outputs": [],
   "source": [
    "import requests\n",
    "from bs4 import BeautifulSoup"
   ]
  },
  {
   "cell_type": "code",
   "execution_count": 3,
   "id": "21943403",
   "metadata": {},
   "outputs": [
    {
     "data": {
      "text/plain": [
       "200"
      ]
     },
     "execution_count": 3,
     "metadata": {},
     "output_type": "execute_result"
    }
   ],
   "source": [
    "r = requests.get('https://www.goodreads.com/')\n",
    "r.status_code"
   ]
  },
  {
   "cell_type": "code",
   "execution_count": 6,
   "id": "c2065135",
   "metadata": {},
   "outputs": [
    {
     "data": {
      "text/plain": [
       "[<a class=\"gr-hyperlink\" href=\"/about/terms\" rel=\"noopener noreferrer\" target=\"_blank\">Terms of Service</a>,\n",
       " <a class=\"gr-hyperlink\" href=\"/about/privacy\" rel=\"noopener noreferrer\" target=\"_blank\">Privacy Policy</a>,\n",
       " <a class=\"gr-hyperlink\" href=\"/user/sign_in\">Sign In</a>,\n",
       " <a class=\"gr-hyperlink\" href=\"/genres/art\">Art</a>,\n",
       " <a class=\"gr-hyperlink\" href=\"/genres/biography\">Biography</a>,\n",
       " <a class=\"gr-hyperlink\" href=\"/genres/business\">Business</a>,\n",
       " <a class=\"gr-hyperlink\" href=\"/genres/children-s\">Children's</a>,\n",
       " <a class=\"gr-hyperlink\" href=\"/genres/christian\">Christian</a>,\n",
       " <a class=\"gr-hyperlink\" href=\"/genres/classics\">Classics</a>,\n",
       " <a class=\"gr-hyperlink\" href=\"/genres/comics\">Comics</a>,\n",
       " <a class=\"gr-hyperlink\" href=\"/genres/cookbooks\">Cookbooks</a>,\n",
       " <a class=\"gr-hyperlink\" href=\"/genres/ebooks\">Ebooks</a>,\n",
       " <a class=\"gr-hyperlink\" href=\"/genres/fantasy\">Fantasy</a>,\n",
       " <a class=\"gr-hyperlink\" href=\"/genres/fiction\">Fiction</a>,\n",
       " <a class=\"gr-hyperlink\" href=\"/genres/graphic-novels\">Graphic Novels</a>,\n",
       " <a class=\"gr-hyperlink\" href=\"/genres/historical-fiction\">Historical Fiction</a>,\n",
       " <a class=\"gr-hyperlink\" href=\"/genres/history\">History</a>,\n",
       " <a class=\"gr-hyperlink\" href=\"/genres/horror\">Horror</a>,\n",
       " <a class=\"gr-hyperlink\" href=\"/genres/memoir\">Memoir</a>,\n",
       " <a class=\"gr-hyperlink\" href=\"/genres/music\">Music</a>,\n",
       " <a class=\"gr-hyperlink\" href=\"/genres/mystery\">Mystery</a>,\n",
       " <a class=\"gr-hyperlink\" href=\"/genres/non-fiction\">Nonfiction</a>,\n",
       " <a class=\"gr-hyperlink\" href=\"/genres/poetry\">Poetry</a>,\n",
       " <a class=\"gr-hyperlink\" href=\"/genres/psychology\">Psychology</a>,\n",
       " <a class=\"gr-hyperlink\" href=\"/genres/romance\">Romance</a>,\n",
       " <a class=\"gr-hyperlink\" href=\"/genres/science\">Science</a>,\n",
       " <a class=\"gr-hyperlink\" href=\"/genres/science-fiction\">Science Fiction</a>,\n",
       " <a class=\"gr-hyperlink\" href=\"/genres/self-help\">Self Help</a>,\n",
       " <a class=\"gr-hyperlink\" href=\"/genres/sports\">Sports</a>,\n",
       " <a class=\"gr-hyperlink\" href=\"/genres/thriller\">Thriller</a>,\n",
       " <a class=\"gr-hyperlink\" href=\"/genres/travel\">Travel</a>,\n",
       " <a class=\"gr-hyperlink\" href=\"/genres/young-adult\">Young Adult</a>,\n",
       " <a class=\"gr-hyperlink\" href=\"/genres\">More genres</a>,\n",
       " <a class=\"gr-hyperlink\" href=\"/quotes\">Best quotes</a>,\n",
       " <a class=\"gr-hyperlink\" href=\"/quotes/tag/love\">Love quotes</a>,\n",
       " <a class=\"gr-hyperlink\" href=\"/quotes/tag/inspirational\">Inspirational quotes</a>,\n",
       " <a class=\"gr-hyperlink\" href=\"/quotes/tag/funny\">Funny quotes</a>,\n",
       " <a class=\"gr-hyperlink\" href=\"/quotes/tag/motivational\">Motivational quotes</a>,\n",
       " <a class=\"gr-hyperlink\" href=\"/quotes/tag/life\">Life quotes</a>,\n",
       " <a class=\"gr-hyperlink\" href=\"/quotes/tag/friends\">Friends quotes</a>,\n",
       " <a class=\"gr-hyperlink\" href=\"/quotes/tag/positive\">Positive quotes</a>,\n",
       " <a class=\"gr-hyperlink\" href=\"/quotes\">More quotes</a>,\n",
       " <a class=\"gr-hyperlink\" href=\"/choiceawards/best-books-2022\">Best Books 2022</a>,\n",
       " <a class=\"gr-hyperlink\" href=\"/choiceawards/best-fiction-books-2022\">Best Fiction</a>,\n",
       " <a class=\"gr-hyperlink\" href=\"/choiceawards/best-mystery-thriller-books-2022\">Best Mystery &amp; Thriller</a>,\n",
       " <a class=\"gr-hyperlink\" href=\"/choiceawards/best-historical-fiction-books-2022\">Best Historical Fiction</a>,\n",
       " <a class=\"gr-hyperlink\" href=\"/choiceawards/best-fantasy-books-2022\">Best Fantasy</a>,\n",
       " <a class=\"gr-hyperlink\" href=\"/choiceawards/best-romance-books-2022\">Best Romance</a>,\n",
       " <a class=\"gr-hyperlink\" href=\"/choiceawards/best-science-fiction-books-2022\">Best Science Fiction</a>,\n",
       " <a class=\"gr-hyperlink\" href=\"/choiceawards/best-horror-books-2022\">Best Horror</a>,\n",
       " <a class=\"gr-hyperlink\" href=\"/choiceawards/best-humor-books-2022\">Best Humor</a>,\n",
       " <a class=\"gr-hyperlink\" href=\"/choiceawards/best-nonfiction-books-2022\">Best Nonfiction</a>,\n",
       " <a class=\"gr-hyperlink\" href=\"/choiceawards/best-memoir-autobiography-books-2022\">Best Memoir &amp; Autobiography</a>,\n",
       " <a class=\"gr-hyperlink\" href=\"/choiceawards/best-history-biography-books-2022\">Best History &amp; Biography</a>,\n",
       " <a class=\"gr-hyperlink\" href=\"/choiceawards/best-graphic-novels-comics-2022\">Best Graphic Novels &amp; Comics</a>,\n",
       " <a class=\"gr-hyperlink\" href=\"/choiceawards/best-poetry-books-2022\">Best Poetry</a>,\n",
       " <a class=\"gr-hyperlink\" href=\"/choiceawards/best-debut-novel-2022\">Best Debut Novel</a>,\n",
       " <a class=\"gr-hyperlink\" href=\"/choiceawards/best-young-adult-fiction-books-2022\">Best Young Adult Fiction</a>,\n",
       " <a class=\"gr-hyperlink\" href=\"/choiceawards/best-young-adult-fantasy-books-2022\">Best Young Adult Fantasy &amp; Science Fiction</a>,\n",
       " <a class=\"gr-hyperlink\" href=\"/choiceawards/best-childrens-books-2022\">Best Middle Grade &amp; Children's</a>,\n",
       " <a class=\"gr-hyperlink\" href=\"/list\">More book lists</a>]"
      ]
     },
     "execution_count": 6,
     "metadata": {},
     "output_type": "execute_result"
    }
   ],
   "source": [
    "book_soup = BeautifulSoup(r.content, 'html.parser')\n",
    "categories = book_soup.find_all('a', attrs = {'class': 'gr-hyperlink'})\n",
    "categories"
   ]
  },
  {
   "cell_type": "code",
   "execution_count": 7,
   "id": "ebb2b4b5",
   "metadata": {},
   "outputs": [],
   "source": [
    "txt_categories=[]\n",
    "for tag in categories:\n",
    "    if 'genres' in tag.get('href'):\n",
    "        txt_categories.append(tag.string)"
   ]
  },
  {
   "cell_type": "code",
   "execution_count": 8,
   "id": "b168fbd5",
   "metadata": {},
   "outputs": [
    {
     "name": "stdout",
     "output_type": "stream",
     "text": [
      "Art\n",
      "Biography\n",
      "Business\n",
      "Children's\n",
      "Christian\n",
      "Classics\n",
      "Comics\n",
      "Cookbooks\n",
      "Ebooks\n",
      "Fantasy\n",
      "Fiction\n",
      "Graphic Novels\n",
      "Historical Fiction\n",
      "History\n",
      "Horror\n",
      "Memoir\n",
      "Music\n",
      "Mystery\n",
      "Nonfiction\n",
      "Poetry\n",
      "Psychology\n",
      "Romance\n",
      "Science\n",
      "Science Fiction\n",
      "Self Help\n",
      "Sports\n",
      "Thriller\n",
      "Travel\n",
      "Young Adult\n",
      "More genres\n"
     ]
    }
   ],
   "source": [
    "for category in txt_categories:\n",
    "    print(category)"
   ]
  },
  {
   "cell_type": "code",
   "execution_count": null,
   "id": "41e613db",
   "metadata": {},
   "outputs": [],
   "source": []
  }
 ],
 "metadata": {
  "kernelspec": {
   "display_name": "Python 3 (ipykernel)",
   "language": "python",
   "name": "python3"
  },
  "language_info": {
   "codemirror_mode": {
    "name": "ipython",
    "version": 3
   },
   "file_extension": ".py",
   "mimetype": "text/x-python",
   "name": "python",
   "nbconvert_exporter": "python",
   "pygments_lexer": "ipython3",
   "version": "3.10.8"
  }
 },
 "nbformat": 4,
 "nbformat_minor": 5
}
