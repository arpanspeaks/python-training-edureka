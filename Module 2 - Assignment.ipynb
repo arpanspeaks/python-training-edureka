{
 "cells": [
  {
   "cell_type": "markdown",
   "id": "91358d07",
   "metadata": {},
   "source": [
    "# Q1. Smith register on a ticket booking website for booking bus tickets. To authenticate the registration, he needs to provide a user-id and password. There are some built-in rules for checking the validity of the passwords entered by the users.\n",
    "### Following are the rules for checking the validity of a password:\n",
    "\n",
    "## i. At least 1 alphabet\n",
    "## ii. At least 1 digitbetween [0–9]\n",
    "## iii. At least 1 character from [@&]\n",
    "## iv. Minimum length of transaction password: 5\n",
    "## v. Maximum length of transaction password: 10"
   ]
  },
  {
   "cell_type": "code",
   "execution_count": 6,
   "id": "7b799629",
   "metadata": {},
   "outputs": [],
   "source": [
    "def solution_1():\n",
    "    password = input(\"Enter your password: \")\n",
    "    if len(password) < 5 or len(password) > 10:\n",
    "        return False;\n",
    "    alpha, digit, special = False, False, False\n",
    "    for char in password:\n",
    "        if not alpha and char.isalpha():\n",
    "            alpha = True\n",
    "        elif not digit and char.isdigit():\n",
    "            digit = True\n",
    "        elif not special and (char == '@' or char == '&'):\n",
    "            special = True\n",
    "    return alpha and digit and special"
   ]
  },
  {
   "cell_type": "code",
   "execution_count": 14,
   "id": "4cc83e6a",
   "metadata": {},
   "outputs": [
    {
     "name": "stdout",
     "output_type": "stream",
     "text": [
      "Enter your password: sa@d123\n",
      "Valid password\n"
     ]
    }
   ],
   "source": [
    "if solution_1():\n",
    "    print(\"Valid password\")\n",
    "else:\n",
    "    print(\"Invalid password\")"
   ]
  },
  {
   "cell_type": "markdown",
   "id": "ddf838bb",
   "metadata": {},
   "source": [
    "# Q2. Write a program for printing all elements of a list and their indexes in the list. Take the list as user input."
   ]
  },
  {
   "cell_type": "code",
   "execution_count": 20,
   "id": "ea758267",
   "metadata": {},
   "outputs": [],
   "source": [
    "def solution_2():\n",
    "    n = int(input(\"Enter the number of elements: \"))\n",
    "    arr = []\n",
    "    for _ in range(n):\n",
    "        arr.append(input(\"Enter the element: \"))\n",
    "    print()\n",
    "    for i, e in enumerate(arr):\n",
    "        print(f\"index: {i} - element: {e}\")"
   ]
  },
  {
   "cell_type": "code",
   "execution_count": 21,
   "id": "d1049c95",
   "metadata": {},
   "outputs": [
    {
     "name": "stdout",
     "output_type": "stream",
     "text": [
      "Enter the number of elements: 2\n",
      "Enter the element: 123\n",
      "Enter the element: abc\n",
      "\n",
      "index: 0 - element: 123\n",
      "index: 1 - element: abc\n"
     ]
    }
   ],
   "source": [
    "solution_2()"
   ]
  },
  {
   "cell_type": "markdown",
   "id": "a3f45a30",
   "metadata": {},
   "source": [
    "# Q3. Write  a  program that accepts a  string from the console and prints the  characters that have even indexes if the character is an alphabet. Concatenate the characters and print.\n",
    "### Example:\n",
    "## If the following string is given as input to the program: **Ed12ur3ka1Python12**\n",
    "## Then, the output of the program should be: **EuaPto**"
   ]
  },
  {
   "cell_type": "code",
   "execution_count": 42,
   "id": "54f5f056",
   "metadata": {},
   "outputs": [],
   "source": [
    "def solution_3():\n",
    "    s = input(\"Enter a string: \")\n",
    "    for i, e in enumerate(s):\n",
    "        if not (i&1) and e.isalpha():\n",
    "            print(e, end = \"\")"
   ]
  },
  {
   "cell_type": "code",
   "execution_count": 43,
   "id": "38e54e9b",
   "metadata": {},
   "outputs": [
    {
     "name": "stdout",
     "output_type": "stream",
     "text": [
      "Enter a string: 123rfghjk5y6bne2wqas\n",
      "fhkybewa"
     ]
    }
   ],
   "source": [
    "solution_3()"
   ]
  },
  {
   "cell_type": "markdown",
   "id": "f0ab854b",
   "metadata": {},
   "source": [
    "# Q4. Please  write  a  program that accepts a string  from the console and  prints it  in reverse order.\n",
    "### Example:\n",
    "## If the following string is given as input to the program: **welcome to edureka**\n",
    "## Then, the output of the program should be: **akerude ot emoclew**"
   ]
  },
  {
   "cell_type": "code",
   "execution_count": 40,
   "id": "3566071f",
   "metadata": {},
   "outputs": [],
   "source": [
    "def solution_4():\n",
    "    s = input(\"Enter a string: \")\n",
    "    for i in range(len(s)-1, -1, -1):\n",
    "        print(s[i], end=\"\")"
   ]
  },
  {
   "cell_type": "code",
   "execution_count": 41,
   "id": "1ee0d7fb",
   "metadata": {},
   "outputs": [
    {
     "name": "stdout",
     "output_type": "stream",
     "text": [
      "Enter a string: HeLlO wOrLd!\n",
      "!dLrOw OlLeH"
     ]
    }
   ],
   "source": [
    "solution_4()"
   ]
  },
  {
   "cell_type": "markdown",
   "id": "da2ba577",
   "metadata": {},
   "source": [
    "# Q5. Please write a program that counts and prints the numbers of each character in a string input by the console.\n",
    "### Example:\n",
    "## If the following string is given as input to the program: **abcdefgabc**\n",
    "## Then, the output of the program should be:\n",
    "## a,2\n",
    "## c,2\n",
    "## b,2\n",
    "## e,1\n",
    "## d,1\n",
    "## g,1\n",
    "## f,1"
   ]
  },
  {
   "cell_type": "code",
   "execution_count": 38,
   "id": "dfca2a6f",
   "metadata": {},
   "outputs": [],
   "source": [
    "def solution_5():\n",
    "    s = input(\"Enter a string: \")\n",
    "    d = {}\n",
    "    for char in s:\n",
    "        d[char] = d.get(char, 0) + 1\n",
    "        \n",
    "    for k in d.keys():\n",
    "        print(f\"{k},{d[k]}\")"
   ]
  },
  {
   "cell_type": "code",
   "execution_count": 39,
   "id": "df6ee393",
   "metadata": {},
   "outputs": [
    {
     "name": "stdout",
     "output_type": "stream",
     "text": [
      "Enter a string: Praggnanandhaa\n",
      "P,1\n",
      "r,1\n",
      "a,5\n",
      "g,2\n",
      "n,3\n",
      "d,1\n",
      "h,1\n"
     ]
    }
   ],
   "source": [
    "solution_5()"
   ]
  },
  {
   "cell_type": "markdown",
   "id": "d2e65592",
   "metadata": {},
   "source": [
    "# Q6. With  two  given  lists  [1,5,10,12,34,13]  and  [4,7,8,10,5,13,24],  write  a  program  to create a new list whose elements are the intersection of the above-given lists."
   ]
  },
  {
   "cell_type": "code",
   "execution_count": 67,
   "id": "7f4b753e",
   "metadata": {},
   "outputs": [],
   "source": [
    "from collections import Counter\n",
    "\n",
    "def solution_6():\n",
    "    list1 = [1, 5, 10, 12, 34, 13]\n",
    "    list2 = [4, 7, 8, 10, 5, 13, 24]\n",
    "    \n",
    "    counter1 = Counter(list1)\n",
    "\n",
    "    intersection = []\n",
    "\n",
    "    for element in list2:\n",
    "        if element in counter1:\n",
    "            intersection.append(element)\n",
    "            counter1[element] -= 1\n",
    "            if counter1[element] == 0:\n",
    "                del counter1[element]\n",
    "\n",
    "    print(\"The intersection of the two lists is:\", intersection)"
   ]
  },
  {
   "cell_type": "code",
   "execution_count": 68,
   "id": "5e21ecc3",
   "metadata": {},
   "outputs": [
    {
     "name": "stdout",
     "output_type": "stream",
     "text": [
      "The intersection of the two lists is: [10, 5, 13]\n"
     ]
    }
   ],
   "source": [
    "solution_6()"
   ]
  },
  {
   "cell_type": "markdown",
   "id": "5156a127",
   "metadata": {},
   "source": [
    "# Q7. By using list comprehension, please write a program to print the list after removing the values which are divisible by 6 in [12,24,35,24,88,120,155]."
   ]
  },
  {
   "cell_type": "code",
   "execution_count": 50,
   "id": "128bebe2",
   "metadata": {},
   "outputs": [],
   "source": [
    "def solution_7():\n",
    "    l = [12, 24, 35, 24, 88, 120, 155]\n",
    "    res = [e for e in l if e % 6]\n",
    "    print(res)"
   ]
  },
  {
   "cell_type": "code",
   "execution_count": 51,
   "id": "51dfcd03",
   "metadata": {},
   "outputs": [
    {
     "name": "stdout",
     "output_type": "stream",
     "text": [
      "[35, 88, 155]\n"
     ]
    }
   ],
   "source": [
    "solution_7()"
   ]
  },
  {
   "cell_type": "markdown",
   "id": "5ff0b3eb",
   "metadata": {},
   "source": [
    "# Q8. By using list comprehension, please write a program to print the list after removing the 1st, 3rd, and 5th numbers in [12,24,35,70,88,120,155]."
   ]
  },
  {
   "cell_type": "code",
   "execution_count": 54,
   "id": "60d1db29",
   "metadata": {},
   "outputs": [],
   "source": [
    "def solution_8():\n",
    "    l = [12, 24, 35, 70, 88, 120, 155]\n",
    "    res = [e for i, e in enumerate(l) if i not in [0, 2, 4]]\n",
    "    print(res)"
   ]
  },
  {
   "cell_type": "code",
   "execution_count": 55,
   "id": "306b7783",
   "metadata": {},
   "outputs": [
    {
     "name": "stdout",
     "output_type": "stream",
     "text": [
      "[24, 70, 120, 155]\n"
     ]
    }
   ],
   "source": [
    "solution_8()"
   ]
  },
  {
   "cell_type": "markdown",
   "id": "155b36e8",
   "metadata": {},
   "source": [
    "# Q9. Please  write  a  program  to  randomly  generate  a  list  with 6 numbers,  which  are divisible by 5 and 7, between 1 and 1500 inclusive."
   ]
  },
  {
   "cell_type": "code",
   "execution_count": 58,
   "id": "13ab46e6",
   "metadata": {},
   "outputs": [],
   "source": [
    "import random\n",
    "\n",
    "def solution_9():\n",
    "    res = []\n",
    "    while len(res) < 6:\n",
    "        n = random.randint(1, 1500)\n",
    "        if not n % 5 and not n % 7:\n",
    "            res.append(n)\n",
    "    print(res)"
   ]
  },
  {
   "cell_type": "code",
   "execution_count": 59,
   "id": "bf8953e5",
   "metadata": {},
   "outputs": [
    {
     "name": "stdout",
     "output_type": "stream",
     "text": [
      "[210, 385, 630, 1120, 1330, 455]\n"
     ]
    }
   ],
   "source": [
    "solution_9()"
   ]
  },
  {
   "cell_type": "markdown",
   "id": "4b6a0c1e",
   "metadata": {},
   "source": [
    "# Q10. Write  a  program  to  compute  1/2+2/3+3/4+...+n/n+1  with  a  given  n  input  by console (n>0).\n",
    "### Example:\n",
    "## If the following n is given as input to the program: 5\n",
    "## Then, the output of the program should be: 3.55"
   ]
  },
  {
   "cell_type": "code",
   "execution_count": 65,
   "id": "d3bbbe6d",
   "metadata": {},
   "outputs": [],
   "source": [
    "def solution_10():\n",
    "    n = int(input(\"Enter a value for n: \"))\n",
    "    sum = 0\n",
    "    for i in range(1, n+1):\n",
    "        sum += i / (i+1)\n",
    "\n",
    "    print(\"The sum of the series is: %.2f\" % sum)"
   ]
  },
  {
   "cell_type": "code",
   "execution_count": 66,
   "id": "fc394610",
   "metadata": {},
   "outputs": [
    {
     "name": "stdout",
     "output_type": "stream",
     "text": [
      "Enter a value for n: 5\n",
      "The sum of the series is: 3.55\n"
     ]
    }
   ],
   "source": [
    "solution_10()"
   ]
  },
  {
   "cell_type": "markdown",
   "id": "20c10464",
   "metadata": {},
   "source": [
    "# Q11. Case Study\n",
    "### Domain: Banking\n",
    "### Focus: Optimization\n",
    "## Business challenge/requirement\n",
    "### FinBank is the latest entrant in the banking market of Thailand.  The verification process for opening a bank account is done manually by reviewing the photocopy of the approved ID card. However, they have recently introduced a system where the customers’ fingerprints will be mapped with the newly introduced Unique ID for citizens of Thailand by the government. FinBank should implement a system that verifies customers against their fingerprints and Unique Id.\n",
    "## Key issues\n",
    "### Build a system where when a user enters a Unique ID, it gets encrypted so that hackers cannot view the mapping of the Unique ID and fingerprint.\n",
    "## Considerations\n",
    "### The system should be secure.\n",
    "## Data volume - NA\n",
    "## Additional information - NA\n",
    "## Business benefits\n",
    "### The bank will be able to verify customers’ data quickly, and the expected gain in volume is approximately ten times as the manual process of verification is replaced with a secure automated system.\n",
    "## Approach to solve\n",
    "### 1. Read the input from the command line – UniqueID.\n",
    "### 2. Check for validity of Unique ID – it should be 10 digits and must contain only numbers.\n",
    "### 3. Encrypt the UniqueID and print it.\n",
    "## Enhancements for code\n",
    "### You can try these enhancements in code.\n",
    "### 1. Allow alphabets and some special characters in Unique ID\n",
    "### 2. Provide the option for decryption to the user."
   ]
  },
  {
   "cell_type": "code",
   "execution_count": 87,
   "id": "fcf7ce0b",
   "metadata": {},
   "outputs": [],
   "source": [
    "import hashlib\n",
    "\n",
    "def encrypt(unique_id):\n",
    "    sha256 = hashlib.sha256()\n",
    "    sha256.update(unique_id.encode())\n",
    "    return sha256.hexdigest()\n",
    "\n",
    "def verify_customer(unique_id):\n",
    "    if len(unique_id) != 10:\n",
    "        print(\"Invalid unique ID. Please enter a 10-character long ID.\")\n",
    "        return\n",
    "    \n",
    "    encrypted_id = encrypt(unique_id)\n",
    "    print(\"Encrypted unique ID:\", encrypted_id)\n",
    "    print(\"Verification successful.\")\n",
    "\n",
    "def solution_11(): \n",
    "    unique_id = input(\"Enter your unique ID: \")\n",
    "    verify_customer(unique_id)"
   ]
  },
  {
   "cell_type": "code",
   "execution_count": 89,
   "id": "9f587601",
   "metadata": {},
   "outputs": [
    {
     "name": "stdout",
     "output_type": "stream",
     "text": [
      "Enter your unique ID: qwerty@123\n",
      "Encrypted unique ID: df5a48cb0f7349114cf50c5c1f1888926de60d75ba7c78809b5ceb719c12c4f4\n",
      "Verification successful.\n"
     ]
    }
   ],
   "source": [
    "solution_11()"
   ]
  },
  {
   "cell_type": "code",
   "execution_count": null,
   "id": "9c28d153",
   "metadata": {},
   "outputs": [],
   "source": []
  }
 ],
 "metadata": {
  "kernelspec": {
   "display_name": "Python 3 (ipykernel)",
   "language": "python",
   "name": "python3"
  },
  "language_info": {
   "codemirror_mode": {
    "name": "ipython",
    "version": 3
   },
   "file_extension": ".py",
   "mimetype": "text/x-python",
   "name": "python",
   "nbconvert_exporter": "python",
   "pygments_lexer": "ipython3",
   "version": "3.10.8"
  }
 },
 "nbformat": 4,
 "nbformat_minor": 5
}
