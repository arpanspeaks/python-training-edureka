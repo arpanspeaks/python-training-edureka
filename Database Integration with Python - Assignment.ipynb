{
 "cells": [
  {
   "cell_type": "markdown",
   "id": "74f7c3d4",
   "metadata": {},
   "source": [
    "### 1. Create a database called retails.\n",
    "### 2. Connect to the newly created database and create tables called customer and orders.\n",
    "### 3. Add a new ‘is_sale’ column in ‘orders’ table.\n",
    "### 4. Insert values into the customer table and display the contents.\n",
    "(1001, 34, 'Austin', 'male'), (1002, 37, 'Houston', 'male'), (1003, 25, 'Austin', 'female'), (1004, 28, 'Houston', 'female'), (1005, 22, 'Dallas', 'male')\n",
    "### 5. Show the details of customers who are located in Austin City.\n",
    "### 6. Group customers based on location and display the information.\n",
    "### 7. Group customers based on their gender and display the information.\n",
    "### 8. Insert values into the orders table and display the contents.\n",
    "('2022-10-1', 100.25, 1), ('2022-10-2',200.75, 2), ('2022-10-3',500.00,3), ('2022-10-3', 600.00,4), ('2022-10-4', 600.00,5)\n",
    "### 9. Show order details that were purchased on 2022-10-03.\n",
    "### 10. Show orders that have an order amount of more than 300.\n",
    "### 11. Show all orders placed on 2022-10-03 and represent it in sorted form with respect to the amount spent.\n",
    "### 12. Count the number of distinct days in the data.\n",
    "### 13. Count the orders grouped by date.\n",
    "### 14. Calculate the average order amount for all days."
   ]
  },
  {
   "cell_type": "code",
   "execution_count": 2,
   "id": "950c6bff",
   "metadata": {},
   "outputs": [],
   "source": [
    "import sqlite3\n",
    "\n",
    "conn = sqlite3.connect('retails.db')"
   ]
  },
  {
   "cell_type": "code",
   "execution_count": 3,
   "id": "5d0bb863",
   "metadata": {},
   "outputs": [],
   "source": [
    "conn = sqlite3.connect('retails.db')\n",
    "\n",
    "conn.execute('''CREATE TABLE customer\n",
    "             (cust_id INT PRIMARY KEY NOT NULL,\n",
    "             age INT NOT NULL,\n",
    "             city TEXT NOT NULL,\n",
    "             gender CHAR(6) NOT NULL);''')\n",
    "\n",
    "conn.execute('''CREATE TABLE orders\n",
    "             (order_id INT PRIMARY KEY NOT NULL,\n",
    "             order_date DATE NOT NULL,\n",
    "             amount FLOAT NOT NULL,\n",
    "             cust_id INT NOT NULL,\n",
    "             FOREIGN KEY (cust_id) REFERENCES customer(cust_id));''')\n",
    "\n",
    "conn.commit()\n",
    "conn.close()"
   ]
  },
  {
   "cell_type": "code",
   "execution_count": 4,
   "id": "d428506f",
   "metadata": {},
   "outputs": [],
   "source": [
    "conn = sqlite3.connect('retails.db')\n",
    "conn.execute(\"ALTER TABLE orders ADD COLUMN is_sale BOOLEAN\")\n",
    "conn.commit()\n",
    "conn.close()"
   ]
  },
  {
   "cell_type": "code",
   "execution_count": 5,
   "id": "57819b9b",
   "metadata": {},
   "outputs": [
    {
     "name": "stdout",
     "output_type": "stream",
     "text": [
      "(1001, 34, 'Austin', 'male')\n",
      "(1002, 37, 'Houston', 'male')\n",
      "(1003, 25, 'Austin', 'female')\n",
      "(1004, 28, 'Houston', 'female')\n",
      "(1005, 22, 'Dallas', 'male')\n"
     ]
    }
   ],
   "source": [
    "conn = sqlite3.connect('retails.db')\n",
    "conn.execute(\"INSERT INTO customer (cust_id, age, city, gender) VALUES (1001, 34, 'Austin', 'male')\")\n",
    "conn.execute(\"INSERT INTO customer (cust_id, age, city, gender) VALUES (1002, 37, 'Houston', 'male')\")\n",
    "conn.execute(\"INSERT INTO customer (cust_id, age, city, gender) VALUES (1003, 25, 'Austin', 'female')\")\n",
    "conn.execute(\"INSERT INTO customer (cust_id, age, city, gender) VALUES (1004, 28, 'Houston', 'female')\")\n",
    "conn.execute(\"INSERT INTO customer (cust_id, age, city, gender) VALUES (1005, 22, 'Dallas', 'male')\")\n",
    "conn.commit()\n",
    "\n",
    "cursor = conn.execute(\"SELECT * FROM customer\")\n",
    "for row in cursor:\n",
    "    print(row)\n",
    "\n",
    "conn.close()"
   ]
  },
  {
   "cell_type": "code",
   "execution_count": 6,
   "id": "10a76b7d",
   "metadata": {},
   "outputs": [
    {
     "name": "stdout",
     "output_type": "stream",
     "text": [
      "(1001, 34, 'Austin', 'male')\n",
      "(1003, 25, 'Austin', 'female')\n"
     ]
    }
   ],
   "source": [
    "conn = sqlite3.connect('retails.db')\n",
    "cursor = conn.execute(\"SELECT * FROM customer WHERE city='Austin'\")\n",
    "for row in cursor:\n",
    "    print(row)\n",
    "conn.close()\n"
   ]
  },
  {
   "cell_type": "code",
   "execution_count": 7,
   "id": "83301ea1",
   "metadata": {},
   "outputs": [
    {
     "name": "stdout",
     "output_type": "stream",
     "text": [
      "('Austin', 2)\n",
      "('Dallas', 1)\n",
      "('Houston', 2)\n"
     ]
    }
   ],
   "source": [
    "conn = sqlite3.connect('retails.db')\n",
    "cursor = conn.execute(\"SELECT city, COUNT(*) as count FROM customer GROUP BY city\")\n",
    "for row in cursor:\n",
    "    print(row)\n",
    "conn.close()\n"
   ]
  },
  {
   "cell_type": "code",
   "execution_count": 8,
   "id": "b5ff0ac4",
   "metadata": {},
   "outputs": [
    {
     "ename": "NameError",
     "evalue": "name 'customer_table' is not defined",
     "output_type": "error",
     "traceback": [
      "\u001b[1;31m---------------------------------------------------------------------------\u001b[0m",
      "\u001b[1;31mNameError\u001b[0m                                 Traceback (most recent call last)",
      "Cell \u001b[1;32mIn[8], line 1\u001b[0m\n\u001b[1;32m----> 1\u001b[0m grouped_gender \u001b[38;5;241m=\u001b[39m \u001b[43mcustomer_table\u001b[49m\u001b[38;5;241m.\u001b[39mgroupby(\u001b[38;5;124m'\u001b[39m\u001b[38;5;124mgender\u001b[39m\u001b[38;5;124m'\u001b[39m)\n\u001b[0;32m      2\u001b[0m \u001b[38;5;28mprint\u001b[39m(grouped_gender\u001b[38;5;241m.\u001b[39mcount())\n",
      "\u001b[1;31mNameError\u001b[0m: name 'customer_table' is not defined"
     ]
    }
   ],
   "source": [
    "grouped_gender = customer_table.groupby('gender')\n",
    "print(grouped_gender.count())"
   ]
  },
  {
   "cell_type": "code",
   "execution_count": 12,
   "id": "a68df991",
   "metadata": {},
   "outputs": [
    {
     "ename": "ProgrammingError",
     "evalue": "Cannot operate on a closed database.",
     "output_type": "error",
     "traceback": [
      "\u001b[1;31m---------------------------------------------------------------------------\u001b[0m",
      "\u001b[1;31mProgrammingError\u001b[0m                          Traceback (most recent call last)",
      "Cell \u001b[1;32mIn[12], line 3\u001b[0m\n\u001b[0;32m      1\u001b[0m orders_data \u001b[38;5;241m=\u001b[39m [(\u001b[38;5;124m'\u001b[39m\u001b[38;5;124m2022-10-1\u001b[39m\u001b[38;5;124m'\u001b[39m, \u001b[38;5;241m100.25\u001b[39m, \u001b[38;5;241m1\u001b[39m), (\u001b[38;5;124m'\u001b[39m\u001b[38;5;124m2022-10-2\u001b[39m\u001b[38;5;124m'\u001b[39m,\u001b[38;5;241m200.75\u001b[39m, \u001b[38;5;241m2\u001b[39m), (\u001b[38;5;124m'\u001b[39m\u001b[38;5;124m2022-10-3\u001b[39m\u001b[38;5;124m'\u001b[39m,\u001b[38;5;241m500.00\u001b[39m,\u001b[38;5;241m3\u001b[39m), (\u001b[38;5;124m'\u001b[39m\u001b[38;5;124m2022-10-3\u001b[39m\u001b[38;5;124m'\u001b[39m, \u001b[38;5;241m600.00\u001b[39m,\u001b[38;5;241m4\u001b[39m), (\u001b[38;5;124m'\u001b[39m\u001b[38;5;124m2022-10-4\u001b[39m\u001b[38;5;124m'\u001b[39m, \u001b[38;5;241m600.00\u001b[39m,\u001b[38;5;241m5\u001b[39m)]\n\u001b[0;32m      2\u001b[0m \u001b[38;5;28;01mfor\u001b[39;00m data \u001b[38;5;129;01min\u001b[39;00m orders_data:\n\u001b[1;32m----> 3\u001b[0m     \u001b[43mcursor\u001b[49m\u001b[38;5;241;43m.\u001b[39;49m\u001b[43mexecute\u001b[49m\u001b[43m(\u001b[49m\u001b[38;5;124;43m\"\u001b[39;49m\u001b[38;5;124;43mINSERT INTO orders (order_date,amount,customer_id) VALUES (?,?,?)\u001b[39;49m\u001b[38;5;124;43m\"\u001b[39;49m\u001b[43m,\u001b[49m\u001b[43m \u001b[49m\u001b[43mdata\u001b[49m\u001b[43m)\u001b[49m\n\u001b[0;32m      4\u001b[0m connection\u001b[38;5;241m.\u001b[39mcommit()\n\u001b[0;32m      5\u001b[0m cursor\u001b[38;5;241m.\u001b[39mexecute(\u001b[38;5;124m\"\u001b[39m\u001b[38;5;124mSELECT * FROM orders\u001b[39m\u001b[38;5;124m\"\u001b[39m)\n",
      "\u001b[1;31mProgrammingError\u001b[0m: Cannot operate on a closed database."
     ]
    }
   ],
   "source": [
    "orders_data = [('2022-10-1', 100.25, 1), ('2022-10-2',200.75, 2), ('2022-10-3',500.00,3), ('2022-10-3', 600.00,4), ('2022-10-4', 600.00,5)]\n",
    "for data in orders_data:\n",
    "    cursor.execute(\"INSERT INTO orders (order_date,amount,customer_id) VALUES (?,?,?)\", data)\n",
    "connection.commit()\n",
    "cursor.execute(\"SELECT * FROM orders\")\n",
    "print(cursor.fetchall())"
   ]
  },
  {
   "cell_type": "code",
   "execution_count": 13,
   "id": "c1d72f63",
   "metadata": {},
   "outputs": [
    {
     "ename": "ProgrammingError",
     "evalue": "Cannot operate on a closed database.",
     "output_type": "error",
     "traceback": [
      "\u001b[1;31m---------------------------------------------------------------------------\u001b[0m",
      "\u001b[1;31mProgrammingError\u001b[0m                          Traceback (most recent call last)",
      "Cell \u001b[1;32mIn[13], line 1\u001b[0m\n\u001b[1;32m----> 1\u001b[0m \u001b[43mcursor\u001b[49m\u001b[38;5;241;43m.\u001b[39;49m\u001b[43mexecute\u001b[49m\u001b[43m(\u001b[49m\u001b[38;5;124;43m\"\u001b[39;49m\u001b[38;5;124;43mSELECT * FROM orders WHERE order_date=\u001b[39;49m\u001b[38;5;124;43m'\u001b[39;49m\u001b[38;5;124;43m2022-10-03\u001b[39;49m\u001b[38;5;124;43m'\u001b[39;49m\u001b[38;5;124;43m\"\u001b[39;49m\u001b[43m)\u001b[49m\n\u001b[0;32m      2\u001b[0m \u001b[38;5;28mprint\u001b[39m(cursor\u001b[38;5;241m.\u001b[39mfetchall())\n",
      "\u001b[1;31mProgrammingError\u001b[0m: Cannot operate on a closed database."
     ]
    }
   ],
   "source": [
    "cursor.execute(\"SELECT * FROM orders WHERE order_date='2022-10-03'\")\n",
    "print(cursor.fetchall())"
   ]
  },
  {
   "cell_type": "code",
   "execution_count": 15,
   "id": "4118abd0",
   "metadata": {},
   "outputs": [
    {
     "ename": "ProgrammingError",
     "evalue": "Cannot operate on a closed database.",
     "output_type": "error",
     "traceback": [
      "\u001b[1;31m---------------------------------------------------------------------------\u001b[0m",
      "\u001b[1;31mProgrammingError\u001b[0m                          Traceback (most recent call last)",
      "Cell \u001b[1;32mIn[15], line 1\u001b[0m\n\u001b[1;32m----> 1\u001b[0m \u001b[43mcursor\u001b[49m\u001b[38;5;241;43m.\u001b[39;49m\u001b[43mexecute\u001b[49m\u001b[43m(\u001b[49m\u001b[38;5;124;43m\"\u001b[39;49m\u001b[38;5;124;43mSELECT * FROM orders WHERE amount>300\u001b[39;49m\u001b[38;5;124;43m\"\u001b[39;49m\u001b[43m)\u001b[49m\n\u001b[0;32m      2\u001b[0m \u001b[38;5;28mprint\u001b[39m(cursor\u001b[38;5;241m.\u001b[39mfetchall())\n",
      "\u001b[1;31mProgrammingError\u001b[0m: Cannot operate on a closed database."
     ]
    }
   ],
   "source": [
    "cursor.execute(\"SELECT * FROM orders WHERE amount>300\")\n",
    "print(cursor.fetchall())"
   ]
  },
  {
   "cell_type": "code",
   "execution_count": 22,
   "id": "d927f83a",
   "metadata": {},
   "outputs": [
    {
     "ename": "ProgrammingError",
     "evalue": "Cannot operate on a closed database.",
     "output_type": "error",
     "traceback": [
      "\u001b[1;31m---------------------------------------------------------------------------\u001b[0m",
      "\u001b[1;31mProgrammingError\u001b[0m                          Traceback (most recent call last)",
      "Cell \u001b[1;32mIn[22], line 1\u001b[0m\n\u001b[1;32m----> 1\u001b[0m \u001b[43mcursor\u001b[49m\u001b[38;5;241;43m.\u001b[39;49m\u001b[43mexecute\u001b[49m\u001b[43m(\u001b[49m\u001b[38;5;124;43m\"\u001b[39;49m\u001b[38;5;124;43mSELECT * FROM orders WHERE order_date=\u001b[39;49m\u001b[38;5;124;43m'\u001b[39;49m\u001b[38;5;124;43m2022-10-03\u001b[39;49m\u001b[38;5;124;43m'\u001b[39;49m\u001b[38;5;124;43m ORDER BY amount DESC\u001b[39;49m\u001b[38;5;124;43m\"\u001b[39;49m\u001b[43m)\u001b[49m\n\u001b[0;32m      2\u001b[0m \u001b[38;5;28mprint\u001b[39m(cursor\u001b[38;5;241m.\u001b[39mfetchall())\n",
      "\u001b[1;31mProgrammingError\u001b[0m: Cannot operate on a closed database."
     ]
    }
   ],
   "source": [
    "cursor.execute(\"SELECT * FROM orders WHERE order_date='2022-10-03' ORDER BY amount DESC\")\n",
    "print(cursor.fetchall())"
   ]
  },
  {
   "cell_type": "code",
   "execution_count": 23,
   "id": "f6a86e3e",
   "metadata": {},
   "outputs": [
    {
     "ename": "ProgrammingError",
     "evalue": "Cannot operate on a closed database.",
     "output_type": "error",
     "traceback": [
      "\u001b[1;31m---------------------------------------------------------------------------\u001b[0m",
      "\u001b[1;31mProgrammingError\u001b[0m                          Traceback (most recent call last)",
      "Cell \u001b[1;32mIn[23], line 1\u001b[0m\n\u001b[1;32m----> 1\u001b[0m \u001b[43mcursor\u001b[49m\u001b[38;5;241;43m.\u001b[39;49m\u001b[43mexecute\u001b[49m\u001b[43m(\u001b[49m\u001b[38;5;124;43m\"\u001b[39;49m\u001b[38;5;124;43mSELECT COUNT(DISTINCT order_date) FROM orders\u001b[39;49m\u001b[38;5;124;43m\"\u001b[39;49m\u001b[43m)\u001b[49m\n\u001b[0;32m      2\u001b[0m \u001b[38;5;28mprint\u001b[39m(cursor\u001b[38;5;241m.\u001b[39mfetchone())\n",
      "\u001b[1;31mProgrammingError\u001b[0m: Cannot operate on a closed database."
     ]
    }
   ],
   "source": [
    "cursor.execute(\"SELECT COUNT(DISTINCT order_date) FROM orders\")\n",
    "print(cursor.fetchone())"
   ]
  },
  {
   "cell_type": "code",
   "execution_count": 24,
   "id": "e18cce12",
   "metadata": {},
   "outputs": [
    {
     "ename": "ProgrammingError",
     "evalue": "Cannot operate on a closed database.",
     "output_type": "error",
     "traceback": [
      "\u001b[1;31m---------------------------------------------------------------------------\u001b[0m",
      "\u001b[1;31mProgrammingError\u001b[0m                          Traceback (most recent call last)",
      "Cell \u001b[1;32mIn[24], line 1\u001b[0m\n\u001b[1;32m----> 1\u001b[0m \u001b[43mcursor\u001b[49m\u001b[38;5;241;43m.\u001b[39;49m\u001b[43mexecute\u001b[49m\u001b[43m(\u001b[49m\u001b[38;5;124;43m\"\u001b[39;49m\u001b[38;5;124;43mSELECT order_date, COUNT(*) FROM orders GROUP BY order_date\u001b[39;49m\u001b[38;5;124;43m\"\u001b[39;49m\u001b[43m)\u001b[49m\n\u001b[0;32m      2\u001b[0m \u001b[38;5;28mprint\u001b[39m(cursor\u001b[38;5;241m.\u001b[39mfetchall())\n",
      "\u001b[1;31mProgrammingError\u001b[0m: Cannot operate on a closed database."
     ]
    }
   ],
   "source": [
    "cursor.execute(\"SELECT order_date, COUNT(*) FROM orders GROUP BY order_date\")\n",
    "print(cursor.fetchall())"
   ]
  },
  {
   "cell_type": "code",
   "execution_count": 25,
   "id": "b887d7c2",
   "metadata": {},
   "outputs": [
    {
     "ename": "ProgrammingError",
     "evalue": "Cannot operate on a closed database.",
     "output_type": "error",
     "traceback": [
      "\u001b[1;31m---------------------------------------------------------------------------\u001b[0m",
      "\u001b[1;31mProgrammingError\u001b[0m                          Traceback (most recent call last)",
      "Cell \u001b[1;32mIn[25], line 1\u001b[0m\n\u001b[1;32m----> 1\u001b[0m \u001b[43mcursor\u001b[49m\u001b[38;5;241;43m.\u001b[39;49m\u001b[43mexecute\u001b[49m\u001b[43m(\u001b[49m\u001b[38;5;124;43m\"\u001b[39;49m\u001b[38;5;124;43mSELECT AVG(amount) FROM orders\u001b[39;49m\u001b[38;5;124;43m\"\u001b[39;49m\u001b[43m)\u001b[49m\n\u001b[0;32m      2\u001b[0m \u001b[38;5;28mprint\u001b[39m(cursor\u001b[38;5;241m.\u001b[39mfetchone())\n",
      "\u001b[1;31mProgrammingError\u001b[0m: Cannot operate on a closed database."
     ]
    }
   ],
   "source": [
    "cursor.execute(\"SELECT AVG(amount) FROM orders\")\n",
    "print(cursor.fetchone())"
   ]
  },
  {
   "cell_type": "code",
   "execution_count": 21,
   "id": "298f7e08",
   "metadata": {},
   "outputs": [
    {
     "ename": "NameError",
     "evalue": "name 'connection' is not defined",
     "output_type": "error",
     "traceback": [
      "\u001b[1;31m---------------------------------------------------------------------------\u001b[0m",
      "\u001b[1;31mNameError\u001b[0m                                 Traceback (most recent call last)",
      "Cell \u001b[1;32mIn[21], line 1\u001b[0m\n\u001b[1;32m----> 1\u001b[0m \u001b[43mconnection\u001b[49m\u001b[38;5;241m.\u001b[39mclose()\n",
      "\u001b[1;31mNameError\u001b[0m: name 'connection' is not defined"
     ]
    }
   ],
   "source": [
    "connection.close()"
   ]
  },
  {
   "cell_type": "code",
   "execution_count": null,
   "id": "42225f6f",
   "metadata": {},
   "outputs": [],
   "source": []
  }
 ],
 "metadata": {
  "kernelspec": {
   "display_name": "Python 3 (ipykernel)",
   "language": "python",
   "name": "python3"
  },
  "language_info": {
   "codemirror_mode": {
    "name": "ipython",
    "version": 3
   },
   "file_extension": ".py",
   "mimetype": "text/x-python",
   "name": "python",
   "nbconvert_exporter": "python",
   "pygments_lexer": "ipython3",
   "version": "3.10.8"
  }
 },
 "nbformat": 4,
 "nbformat_minor": 5
}
