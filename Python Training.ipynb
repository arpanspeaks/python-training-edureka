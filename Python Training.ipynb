{
 "cells": [
  {
   "cell_type": "markdown",
   "id": "3083f41d",
   "metadata": {},
   "source": [
    "# Day 1 : Python"
   ]
  },
  {
   "cell_type": "code",
   "execution_count": 46,
   "id": "2fa5d7ea",
   "metadata": {},
   "outputs": [
    {
     "name": "stdout",
     "output_type": "stream",
     "text": [
      "Hi! How are you?\n"
     ]
    }
   ],
   "source": [
    "print(\"Hi! How are you?\")"
   ]
  },
  {
   "cell_type": "code",
   "execution_count": 47,
   "id": "9ab9b8a1",
   "metadata": {
    "scrolled": true
   },
   "outputs": [
    {
     "data": {
      "text/plain": [
       "1625"
      ]
     },
     "execution_count": 47,
     "metadata": {},
     "output_type": "execute_result"
    }
   ],
   "source": [
    "25*65"
   ]
  },
  {
   "cell_type": "markdown",
   "id": "70c14e3a",
   "metadata": {},
   "source": [
    "# Python Program Example"
   ]
  },
  {
   "cell_type": "code",
   "execution_count": 51,
   "id": "5691ca53",
   "metadata": {},
   "outputs": [
    {
     "name": "stdout",
     "output_type": "stream",
     "text": [
      "Enter your name: Arpan\n"
     ]
    }
   ],
   "source": [
    "x = input(\"Enter your name: \")"
   ]
  },
  {
   "cell_type": "code",
   "execution_count": 53,
   "id": "8aef9250",
   "metadata": {},
   "outputs": [
    {
     "data": {
      "text/plain": [
       "'Arpan'"
      ]
     },
     "execution_count": 53,
     "metadata": {},
     "output_type": "execute_result"
    }
   ],
   "source": [
    "x"
   ]
  },
  {
   "cell_type": "code",
   "execution_count": 52,
   "id": "7e9f6db8",
   "metadata": {},
   "outputs": [
    {
     "name": "stdout",
     "output_type": "stream",
     "text": [
      "Enter a number: 121\n",
      "11.0\n"
     ]
    }
   ],
   "source": [
    "# Square root of a number\n",
    "num = float(input(\"Enter a number: \"))\n",
    "res = num ** 0.5\n",
    "print(res)"
   ]
  },
  {
   "cell_type": "code",
   "execution_count": 13,
   "id": "3cb4254e",
   "metadata": {},
   "outputs": [
    {
     "data": {
      "text/plain": [
       "int"
      ]
     },
     "execution_count": 13,
     "metadata": {},
     "output_type": "execute_result"
    }
   ],
   "source": [
    "x = 20\n",
    "type(x)"
   ]
  },
  {
   "cell_type": "code",
   "execution_count": 14,
   "id": "92ef470c",
   "metadata": {},
   "outputs": [],
   "source": [
    "z = 20"
   ]
  },
  {
   "cell_type": "code",
   "execution_count": 15,
   "id": "a6137614",
   "metadata": {},
   "outputs": [
    {
     "name": "stdout",
     "output_type": "stream",
     "text": [
      "1936012411728\n",
      "1936012411728\n"
     ]
    }
   ],
   "source": [
    "print(id(x))\n",
    "print(id(z))"
   ]
  },
  {
   "cell_type": "code",
   "execution_count": 16,
   "id": "7fb79beb",
   "metadata": {},
   "outputs": [
    {
     "name": "stdout",
     "output_type": "stream",
     "text": [
      "Arpan Sardar\n"
     ]
    }
   ],
   "source": [
    "print(\"Arpan\", end=\" \")\n",
    "print(\"Sardar\")"
   ]
  },
  {
   "cell_type": "code",
   "execution_count": 18,
   "id": "6dd71b01",
   "metadata": {},
   "outputs": [],
   "source": [
    "fname = \"Arpan\"\n",
    "lname = \"Sardar\""
   ]
  },
  {
   "cell_type": "code",
   "execution_count": 20,
   "id": "76efc8ad",
   "metadata": {},
   "outputs": [
    {
     "name": "stdout",
     "output_type": "stream",
     "text": [
      "Hi! My name is Arpan Sardar\n"
     ]
    }
   ],
   "source": [
    "print(\"Hi! My name is \" + fname + \" \" + lname)"
   ]
  },
  {
   "cell_type": "code",
   "execution_count": 21,
   "id": "7f6602df",
   "metadata": {},
   "outputs": [
    {
     "name": "stdout",
     "output_type": "stream",
     "text": [
      "Hi! My name is Arpan Sardar\n"
     ]
    }
   ],
   "source": [
    "print(\"Hi! My name is %s %s\" % (fname, lname))"
   ]
  },
  {
   "cell_type": "code",
   "execution_count": 22,
   "id": "c39fa4bd",
   "metadata": {},
   "outputs": [
    {
     "name": "stdout",
     "output_type": "stream",
     "text": [
      "Hi! My name is Arpan Sardar\n"
     ]
    }
   ],
   "source": [
    "print(\"Hi! My name is {} {}\".format(fname, lname))"
   ]
  },
  {
   "cell_type": "code",
   "execution_count": 24,
   "id": "0f583245",
   "metadata": {},
   "outputs": [
    {
     "name": "stdout",
     "output_type": "stream",
     "text": [
      "Hi! My name is Arpan Sardar\n"
     ]
    }
   ],
   "source": [
    "print(f\"Hi! My name is {fname} {lname}\")"
   ]
  },
  {
   "cell_type": "code",
   "execution_count": null,
   "id": "8f73cfeb",
   "metadata": {},
   "outputs": [],
   "source": []
  },
  {
   "cell_type": "markdown",
   "id": "f2cddc03",
   "metadata": {},
   "source": [
    "# Data Structures"
   ]
  },
  {
   "cell_type": "code",
   "execution_count": 34,
   "id": "7d7189ce",
   "metadata": {},
   "outputs": [],
   "source": [
    "# Tuples\n",
    "# Lists\n",
    "# Dictionaries\n",
    "# Sets"
   ]
  },
  {
   "cell_type": "markdown",
   "id": "0ff650cf",
   "metadata": {},
   "source": [
    "### Tuples"
   ]
  },
  {
   "cell_type": "code",
   "execution_count": 36,
   "id": "9d3785a6",
   "metadata": {},
   "outputs": [],
   "source": [
    "t1 = (1, \"abc\", 'd', 2.1)"
   ]
  },
  {
   "cell_type": "code",
   "execution_count": 37,
   "id": "afd70d1a",
   "metadata": {},
   "outputs": [],
   "source": [
    "t2 = (\"country\", \"india\")"
   ]
  },
  {
   "cell_type": "code",
   "execution_count": 38,
   "id": "fb7cb312",
   "metadata": {},
   "outputs": [
    {
     "data": {
      "text/plain": [
       "(1, 'abc', 'd', 2.1, 'country', 'india')"
      ]
     },
     "execution_count": 38,
     "metadata": {},
     "output_type": "execute_result"
    }
   ],
   "source": [
    "t1 + t2"
   ]
  },
  {
   "cell_type": "code",
   "execution_count": 39,
   "id": "63c3373d",
   "metadata": {},
   "outputs": [
    {
     "data": {
      "text/plain": [
       "('abc', 'd')"
      ]
     },
     "execution_count": 39,
     "metadata": {},
     "output_type": "execute_result"
    }
   ],
   "source": [
    "t1[1:3]"
   ]
  },
  {
   "cell_type": "code",
   "execution_count": 40,
   "id": "3f364441",
   "metadata": {},
   "outputs": [
    {
     "data": {
      "text/plain": [
       "'d'"
      ]
     },
     "execution_count": 40,
     "metadata": {},
     "output_type": "execute_result"
    }
   ],
   "source": [
    "t1[-2]"
   ]
  },
  {
   "cell_type": "code",
   "execution_count": 41,
   "id": "d3680fa4",
   "metadata": {},
   "outputs": [
    {
     "data": {
      "text/plain": [
       "('abc', 'd')"
      ]
     },
     "execution_count": 41,
     "metadata": {},
     "output_type": "execute_result"
    }
   ],
   "source": [
    "t1[1:-1]"
   ]
  },
  {
   "cell_type": "code",
   "execution_count": 42,
   "id": "cb13e9d1",
   "metadata": {},
   "outputs": [
    {
     "ename": "TypeError",
     "evalue": "'tuple' object does not support item assignment",
     "output_type": "error",
     "traceback": [
      "\u001b[1;31m---------------------------------------------------------------------------\u001b[0m",
      "\u001b[1;31mTypeError\u001b[0m                                 Traceback (most recent call last)",
      "Cell \u001b[1;32mIn[42], line 1\u001b[0m\n\u001b[1;32m----> 1\u001b[0m t1[\u001b[38;5;241m0\u001b[39m] \u001b[38;5;241m=\u001b[39m \u001b[38;5;241m0\u001b[39m\n",
      "\u001b[1;31mTypeError\u001b[0m: 'tuple' object does not support item assignment"
     ]
    }
   ],
   "source": [
    "t1[0] = 0"
   ]
  },
  {
   "cell_type": "markdown",
   "id": "b454d19b",
   "metadata": {},
   "source": [
    "### Lists"
   ]
  },
  {
   "cell_type": "code",
   "execution_count": 44,
   "id": "18987477",
   "metadata": {},
   "outputs": [],
   "source": [
    "l1 = [1, 'a', \"abc\"]"
   ]
  },
  {
   "cell_type": "code",
   "execution_count": 45,
   "id": "d4453193",
   "metadata": {},
   "outputs": [],
   "source": [
    "l1[0] = \"Arpan\""
   ]
  },
  {
   "cell_type": "code",
   "execution_count": 54,
   "id": "7cfbf61f",
   "metadata": {},
   "outputs": [],
   "source": [
    "l1.append('Sardar')"
   ]
  },
  {
   "cell_type": "code",
   "execution_count": 55,
   "id": "61e23aae",
   "metadata": {},
   "outputs": [],
   "source": [
    "l1.clear()"
   ]
  },
  {
   "cell_type": "code",
   "execution_count": 56,
   "id": "3d8acfdd",
   "metadata": {},
   "outputs": [
    {
     "data": {
      "text/plain": [
       "[]"
      ]
     },
     "execution_count": 56,
     "metadata": {},
     "output_type": "execute_result"
    }
   ],
   "source": [
    "l1"
   ]
  },
  {
   "cell_type": "code",
   "execution_count": 57,
   "id": "c31ed2bc",
   "metadata": {},
   "outputs": [],
   "source": [
    "del l1"
   ]
  },
  {
   "cell_type": "code",
   "execution_count": 58,
   "id": "955e53eb",
   "metadata": {},
   "outputs": [
    {
     "ename": "NameError",
     "evalue": "name 'l1' is not defined",
     "output_type": "error",
     "traceback": [
      "\u001b[1;31m---------------------------------------------------------------------------\u001b[0m",
      "\u001b[1;31mNameError\u001b[0m                                 Traceback (most recent call last)",
      "Cell \u001b[1;32mIn[58], line 1\u001b[0m\n\u001b[1;32m----> 1\u001b[0m \u001b[43ml1\u001b[49m\n",
      "\u001b[1;31mNameError\u001b[0m: name 'l1' is not defined"
     ]
    }
   ],
   "source": [
    "l1"
   ]
  },
  {
   "cell_type": "code",
   "execution_count": 59,
   "id": "823bd6d9",
   "metadata": {},
   "outputs": [],
   "source": [
    "l1 = [1, 'a', \"abc\"]"
   ]
  },
  {
   "cell_type": "code",
   "execution_count": 60,
   "id": "1fdaa578",
   "metadata": {},
   "outputs": [],
   "source": [
    "l2 = l1.copy()"
   ]
  },
  {
   "cell_type": "code",
   "execution_count": 61,
   "id": "2839d025",
   "metadata": {},
   "outputs": [
    {
     "data": {
      "text/plain": [
       "[1, 'a', 'abc']"
      ]
     },
     "execution_count": 61,
     "metadata": {},
     "output_type": "execute_result"
    }
   ],
   "source": [
    "l2"
   ]
  },
  {
   "cell_type": "code",
   "execution_count": 62,
   "id": "059cf80b",
   "metadata": {},
   "outputs": [],
   "source": [
    "l2.append(\"Arpan\")"
   ]
  },
  {
   "cell_type": "code",
   "execution_count": 63,
   "id": "c14ee163",
   "metadata": {},
   "outputs": [
    {
     "data": {
      "text/plain": [
       "0"
      ]
     },
     "execution_count": 63,
     "metadata": {},
     "output_type": "execute_result"
    }
   ],
   "source": [
    "l1.count(\"Arpan\")"
   ]
  },
  {
   "cell_type": "code",
   "execution_count": 64,
   "id": "0f25f9c2",
   "metadata": {},
   "outputs": [
    {
     "data": {
      "text/plain": [
       "1"
      ]
     },
     "execution_count": 64,
     "metadata": {},
     "output_type": "execute_result"
    }
   ],
   "source": [
    "l2.count(\"Arpan\")"
   ]
  },
  {
   "cell_type": "code",
   "execution_count": 66,
   "id": "bc388362",
   "metadata": {},
   "outputs": [],
   "source": [
    "l1.extend([\"Arpan\", \"Sardar\", \"Abc\"])"
   ]
  },
  {
   "cell_type": "code",
   "execution_count": 69,
   "id": "117ef5b8",
   "metadata": {},
   "outputs": [
    {
     "data": {
      "text/plain": [
       "[1, 'a', 'abc', 'Arpan', 'Sardar', 'Abc']"
      ]
     },
     "execution_count": 69,
     "metadata": {},
     "output_type": "execute_result"
    }
   ],
   "source": [
    "l1"
   ]
  },
  {
   "cell_type": "code",
   "execution_count": 70,
   "id": "b90244b9",
   "metadata": {},
   "outputs": [],
   "source": [
    "l1.append([1, 2, 3])"
   ]
  },
  {
   "cell_type": "code",
   "execution_count": 71,
   "id": "55404d3b",
   "metadata": {},
   "outputs": [
    {
     "data": {
      "text/plain": [
       "[1, 'a', 'abc', 'Arpan', 'Sardar', 'Abc', [1, 2, 3]]"
      ]
     },
     "execution_count": 71,
     "metadata": {},
     "output_type": "execute_result"
    }
   ],
   "source": [
    "l1"
   ]
  },
  {
   "cell_type": "code",
   "execution_count": 72,
   "id": "4d498483",
   "metadata": {},
   "outputs": [
    {
     "data": {
      "text/plain": [
       "6"
      ]
     },
     "execution_count": 72,
     "metadata": {},
     "output_type": "execute_result"
    }
   ],
   "source": [
    "l1.index([1, 2, 3])"
   ]
  },
  {
   "cell_type": "code",
   "execution_count": 75,
   "id": "4611373e",
   "metadata": {},
   "outputs": [],
   "source": [
    "l1.insert(3, 1)"
   ]
  },
  {
   "cell_type": "code",
   "execution_count": 76,
   "id": "e0c8ea3d",
   "metadata": {},
   "outputs": [
    {
     "data": {
      "text/plain": [
       "[1, 'a', 'abc', 1, 'Arpan', 'Sardar', 'Abc', [1, 2, 3]]"
      ]
     },
     "execution_count": 76,
     "metadata": {},
     "output_type": "execute_result"
    }
   ],
   "source": [
    "l1"
   ]
  },
  {
   "cell_type": "code",
   "execution_count": 77,
   "id": "3f02357e",
   "metadata": {},
   "outputs": [
    {
     "data": {
      "text/plain": [
       "3"
      ]
     },
     "execution_count": 77,
     "metadata": {},
     "output_type": "execute_result"
    }
   ],
   "source": [
    "l1.index(1, 2)"
   ]
  },
  {
   "cell_type": "code",
   "execution_count": 78,
   "id": "30c0ab66",
   "metadata": {},
   "outputs": [
    {
     "data": {
      "text/plain": [
       "[1, 2, 3]"
      ]
     },
     "execution_count": 78,
     "metadata": {},
     "output_type": "execute_result"
    }
   ],
   "source": [
    "l1.pop()"
   ]
  },
  {
   "cell_type": "code",
   "execution_count": 79,
   "id": "86e52874",
   "metadata": {},
   "outputs": [
    {
     "data": {
      "text/plain": [
       "[1, 'a', 'abc', 1, 'Arpan', 'Sardar', 'Abc']"
      ]
     },
     "execution_count": 79,
     "metadata": {},
     "output_type": "execute_result"
    }
   ],
   "source": [
    "l1"
   ]
  },
  {
   "cell_type": "code",
   "execution_count": 80,
   "id": "a839e4dd",
   "metadata": {},
   "outputs": [
    {
     "data": {
      "text/plain": [
       "1"
      ]
     },
     "execution_count": 80,
     "metadata": {},
     "output_type": "execute_result"
    }
   ],
   "source": [
    "l1.pop(3)"
   ]
  },
  {
   "cell_type": "code",
   "execution_count": 81,
   "id": "27a25e64",
   "metadata": {},
   "outputs": [
    {
     "data": {
      "text/plain": [
       "[1, 'a', 'abc', 'Arpan', 'Sardar', 'Abc']"
      ]
     },
     "execution_count": 81,
     "metadata": {},
     "output_type": "execute_result"
    }
   ],
   "source": [
    "l1"
   ]
  },
  {
   "cell_type": "code",
   "execution_count": 83,
   "id": "9b8e645b",
   "metadata": {},
   "outputs": [],
   "source": [
    "l1.remove('Abc')"
   ]
  },
  {
   "cell_type": "code",
   "execution_count": 84,
   "id": "6c6219c6",
   "metadata": {},
   "outputs": [
    {
     "data": {
      "text/plain": [
       "[1, 'a', 'abc', 'Arpan', 'Sardar']"
      ]
     },
     "execution_count": 84,
     "metadata": {},
     "output_type": "execute_result"
    }
   ],
   "source": [
    "l1"
   ]
  },
  {
   "cell_type": "code",
   "execution_count": 85,
   "id": "3668abe2",
   "metadata": {},
   "outputs": [],
   "source": [
    "l1.reverse()"
   ]
  },
  {
   "cell_type": "code",
   "execution_count": 86,
   "id": "c05cd27c",
   "metadata": {},
   "outputs": [
    {
     "data": {
      "text/plain": [
       "['Sardar', 'Arpan', 'abc', 'a', 1]"
      ]
     },
     "execution_count": 86,
     "metadata": {},
     "output_type": "execute_result"
    }
   ],
   "source": [
    "l1"
   ]
  },
  {
   "cell_type": "code",
   "execution_count": 87,
   "id": "8a7ebe1c",
   "metadata": {},
   "outputs": [
    {
     "ename": "TypeError",
     "evalue": "'<' not supported between instances of 'int' and 'str'",
     "output_type": "error",
     "traceback": [
      "\u001b[1;31m---------------------------------------------------------------------------\u001b[0m",
      "\u001b[1;31mTypeError\u001b[0m                                 Traceback (most recent call last)",
      "Cell \u001b[1;32mIn[87], line 1\u001b[0m\n\u001b[1;32m----> 1\u001b[0m \u001b[43ml1\u001b[49m\u001b[38;5;241;43m.\u001b[39;49m\u001b[43msort\u001b[49m\u001b[43m(\u001b[49m\u001b[43m)\u001b[49m\n",
      "\u001b[1;31mTypeError\u001b[0m: '<' not supported between instances of 'int' and 'str'"
     ]
    }
   ],
   "source": [
    "l1.sort()"
   ]
  },
  {
   "cell_type": "code",
   "execution_count": 88,
   "id": "71a098fd",
   "metadata": {},
   "outputs": [],
   "source": [
    "l3 = [3, 4, 1]"
   ]
  },
  {
   "cell_type": "code",
   "execution_count": 89,
   "id": "3eeb4fc6",
   "metadata": {},
   "outputs": [],
   "source": [
    "l3.sort()"
   ]
  },
  {
   "cell_type": "code",
   "execution_count": 90,
   "id": "f504421e",
   "metadata": {},
   "outputs": [
    {
     "data": {
      "text/plain": [
       "[1, 3, 4]"
      ]
     },
     "execution_count": 90,
     "metadata": {},
     "output_type": "execute_result"
    }
   ],
   "source": [
    "l3"
   ]
  },
  {
   "cell_type": "code",
   "execution_count": 91,
   "id": "adf180b4",
   "metadata": {},
   "outputs": [],
   "source": [
    "l3.sort(reverse=True)"
   ]
  },
  {
   "cell_type": "code",
   "execution_count": 92,
   "id": "6b6d36af",
   "metadata": {},
   "outputs": [
    {
     "data": {
      "text/plain": [
       "[4, 3, 1]"
      ]
     },
     "execution_count": 92,
     "metadata": {},
     "output_type": "execute_result"
    }
   ],
   "source": [
    "l3"
   ]
  },
  {
   "cell_type": "code",
   "execution_count": 1,
   "id": "c9e7f8d8",
   "metadata": {},
   "outputs": [],
   "source": [
    "d1 = {'Id': 1278, 'Name': 'Arpan', 'Location': 'Bangalore'}"
   ]
  },
  {
   "cell_type": "code",
   "execution_count": 2,
   "id": "093dd263",
   "metadata": {},
   "outputs": [
    {
     "data": {
      "text/plain": [
       "{'Id': 1278, 'Name': 'Arpan', 'Location': 'Bangalore'}"
      ]
     },
     "execution_count": 2,
     "metadata": {},
     "output_type": "execute_result"
    }
   ],
   "source": [
    "d1"
   ]
  },
  {
   "cell_type": "code",
   "execution_count": 3,
   "id": "328cebc7",
   "metadata": {},
   "outputs": [],
   "source": [
    "d2 = {'Id': [1, 2, 3], 'Name': ['Alex', 'Chris', 'Kumar'], 'Age': 40}"
   ]
  },
  {
   "cell_type": "code",
   "execution_count": 4,
   "id": "a9c9f307",
   "metadata": {},
   "outputs": [
    {
     "data": {
      "text/plain": [
       "{'Id': [1, 2, 3], 'Name': ['Alex', 'Chris', 'Kumar'], 'Age': 40}"
      ]
     },
     "execution_count": 4,
     "metadata": {},
     "output_type": "execute_result"
    }
   ],
   "source": [
    "d2"
   ]
  },
  {
   "cell_type": "code",
   "execution_count": 5,
   "id": "070dea41",
   "metadata": {},
   "outputs": [
    {
     "data": {
      "text/plain": [
       "dict_keys(['Id', 'Name', 'Age'])"
      ]
     },
     "execution_count": 5,
     "metadata": {},
     "output_type": "execute_result"
    }
   ],
   "source": [
    "d2.keys()"
   ]
  },
  {
   "cell_type": "code",
   "execution_count": 6,
   "id": "ee6139c2",
   "metadata": {},
   "outputs": [
    {
     "data": {
      "text/plain": [
       "dict_values([[1, 2, 3], ['Alex', 'Chris', 'Kumar'], 40])"
      ]
     },
     "execution_count": 6,
     "metadata": {},
     "output_type": "execute_result"
    }
   ],
   "source": [
    "d2.values()"
   ]
  },
  {
   "cell_type": "code",
   "execution_count": 10,
   "id": "15c3e57f",
   "metadata": {},
   "outputs": [
    {
     "data": {
      "text/plain": [
       "dict"
      ]
     },
     "execution_count": 10,
     "metadata": {},
     "output_type": "execute_result"
    }
   ],
   "source": [
    "type(d2)"
   ]
  },
  {
   "cell_type": "code",
   "execution_count": 11,
   "id": "2b13ecbc",
   "metadata": {},
   "outputs": [
    {
     "data": {
      "text/plain": [
       "['Alex', 'Chris', 'Kumar']"
      ]
     },
     "execution_count": 11,
     "metadata": {},
     "output_type": "execute_result"
    }
   ],
   "source": [
    "d2['Name']"
   ]
  },
  {
   "cell_type": "code",
   "execution_count": 12,
   "id": "ff63e2ce",
   "metadata": {},
   "outputs": [
    {
     "data": {
      "text/plain": [
       "[1, 2, 3]"
      ]
     },
     "execution_count": 12,
     "metadata": {},
     "output_type": "execute_result"
    }
   ],
   "source": [
    "d2['Id']"
   ]
  },
  {
   "cell_type": "code",
   "execution_count": 13,
   "id": "54114836",
   "metadata": {},
   "outputs": [
    {
     "data": {
      "text/plain": [
       "'Chris'"
      ]
     },
     "execution_count": 13,
     "metadata": {},
     "output_type": "execute_result"
    }
   ],
   "source": [
    "d2['Name'][1]"
   ]
  },
  {
   "cell_type": "code",
   "execution_count": 14,
   "id": "dcb63c21",
   "metadata": {},
   "outputs": [],
   "source": [
    "d2.update({'Id': [0, 1, 2]})"
   ]
  },
  {
   "cell_type": "code",
   "execution_count": 15,
   "id": "5b10ad8e",
   "metadata": {},
   "outputs": [
    {
     "data": {
      "text/plain": [
       "{'Id': [0, 1, 2], 'Name': ['Alex', 'Chris', 'Kumar'], 'Age': 40}"
      ]
     },
     "execution_count": 15,
     "metadata": {},
     "output_type": "execute_result"
    }
   ],
   "source": [
    "d2"
   ]
  },
  {
   "cell_type": "code",
   "execution_count": 17,
   "id": "f7b0b117",
   "metadata": {},
   "outputs": [],
   "source": [
    "d2.update({'Country': 'India', 'Name': ['Alex', 'Chris', 'Nicole']})"
   ]
  },
  {
   "cell_type": "code",
   "execution_count": 18,
   "id": "1fe63a76",
   "metadata": {},
   "outputs": [
    {
     "data": {
      "text/plain": [
       "{'Id': [0, 1, 2],\n",
       " 'Name': ['Alex', 'Chris', 'Nicole'],\n",
       " 'Age': 40,\n",
       " 'Country': 'India'}"
      ]
     },
     "execution_count": 18,
     "metadata": {},
     "output_type": "execute_result"
    }
   ],
   "source": [
    "d2"
   ]
  },
  {
   "cell_type": "code",
   "execution_count": 19,
   "id": "307b0e31",
   "metadata": {},
   "outputs": [],
   "source": [
    "d2['Name'][-1] = 'Kumar'"
   ]
  },
  {
   "cell_type": "code",
   "execution_count": 20,
   "id": "3dc7dd17",
   "metadata": {},
   "outputs": [
    {
     "data": {
      "text/plain": [
       "{'Id': [0, 1, 2],\n",
       " 'Name': ['Alex', 'Chris', 'Kumar'],\n",
       " 'Age': 40,\n",
       " 'Country': 'India'}"
      ]
     },
     "execution_count": 20,
     "metadata": {},
     "output_type": "execute_result"
    }
   ],
   "source": [
    "d2"
   ]
  },
  {
   "cell_type": "code",
   "execution_count": 21,
   "id": "99fa5c0e",
   "metadata": {},
   "outputs": [],
   "source": [
    "del d2['Country']"
   ]
  },
  {
   "cell_type": "code",
   "execution_count": 22,
   "id": "112d5f51",
   "metadata": {},
   "outputs": [
    {
     "data": {
      "text/plain": [
       "{'Id': [0, 1, 2], 'Name': ['Alex', 'Chris', 'Kumar'], 'Age': 40}"
      ]
     },
     "execution_count": 22,
     "metadata": {},
     "output_type": "execute_result"
    }
   ],
   "source": [
    "d2"
   ]
  },
  {
   "cell_type": "markdown",
   "id": "7635f266",
   "metadata": {},
   "source": [
    "### Sets"
   ]
  },
  {
   "cell_type": "code",
   "execution_count": 23,
   "id": "694f085e",
   "metadata": {},
   "outputs": [],
   "source": [
    "s1 = {1, 2, 3, 4, 1, 2, 5}"
   ]
  },
  {
   "cell_type": "code",
   "execution_count": 24,
   "id": "8196cfc1",
   "metadata": {},
   "outputs": [
    {
     "data": {
      "text/plain": [
       "{1, 2, 3, 4, 5}"
      ]
     },
     "execution_count": 24,
     "metadata": {},
     "output_type": "execute_result"
    }
   ],
   "source": [
    "s1"
   ]
  },
  {
   "cell_type": "code",
   "execution_count": 25,
   "id": "8f659ce6",
   "metadata": {},
   "outputs": [
    {
     "ename": "TypeError",
     "evalue": "'set' object is not subscriptable",
     "output_type": "error",
     "traceback": [
      "\u001b[1;31m---------------------------------------------------------------------------\u001b[0m",
      "\u001b[1;31mTypeError\u001b[0m                                 Traceback (most recent call last)",
      "Cell \u001b[1;32mIn[25], line 1\u001b[0m\n\u001b[1;32m----> 1\u001b[0m \u001b[43ms1\u001b[49m\u001b[43m[\u001b[49m\u001b[38;5;241;43m0\u001b[39;49m\u001b[43m]\u001b[49m\n",
      "\u001b[1;31mTypeError\u001b[0m: 'set' object is not subscriptable"
     ]
    }
   ],
   "source": [
    "s1[0]"
   ]
  },
  {
   "cell_type": "code",
   "execution_count": 26,
   "id": "c85033ff",
   "metadata": {},
   "outputs": [],
   "source": [
    "s2 = {1, 2, 20, 4, 6, 5, 2}"
   ]
  },
  {
   "cell_type": "code",
   "execution_count": 27,
   "id": "e327515e",
   "metadata": {},
   "outputs": [
    {
     "ename": "TypeError",
     "evalue": "unsupported operand type(s) for +: 'set' and 'set'",
     "output_type": "error",
     "traceback": [
      "\u001b[1;31m---------------------------------------------------------------------------\u001b[0m",
      "\u001b[1;31mTypeError\u001b[0m                                 Traceback (most recent call last)",
      "Cell \u001b[1;32mIn[27], line 1\u001b[0m\n\u001b[1;32m----> 1\u001b[0m \u001b[43ms1\u001b[49m\u001b[43m \u001b[49m\u001b[38;5;241;43m+\u001b[39;49m\u001b[43m \u001b[49m\u001b[43ms2\u001b[49m\n",
      "\u001b[1;31mTypeError\u001b[0m: unsupported operand type(s) for +: 'set' and 'set'"
     ]
    }
   ],
   "source": [
    "s1 + s2"
   ]
  },
  {
   "cell_type": "code",
   "execution_count": 28,
   "id": "df2134ce",
   "metadata": {},
   "outputs": [
    {
     "data": {
      "text/plain": [
       "{3}"
      ]
     },
     "execution_count": 28,
     "metadata": {},
     "output_type": "execute_result"
    }
   ],
   "source": [
    "s1 - s2"
   ]
  },
  {
   "cell_type": "code",
   "execution_count": 29,
   "id": "1dd4c58c",
   "metadata": {},
   "outputs": [
    {
     "data": {
      "text/plain": [
       "{6, 20}"
      ]
     },
     "execution_count": 29,
     "metadata": {},
     "output_type": "execute_result"
    }
   ],
   "source": [
    "s2 - s1"
   ]
  },
  {
   "cell_type": "markdown",
   "id": "59322193",
   "metadata": {},
   "source": [
    "### String"
   ]
  },
  {
   "cell_type": "code",
   "execution_count": 34,
   "id": "bbd39a60",
   "metadata": {},
   "outputs": [],
   "source": [
    "s = \"Python\""
   ]
  },
  {
   "cell_type": "code",
   "execution_count": 35,
   "id": "1bf8c20b",
   "metadata": {},
   "outputs": [
    {
     "data": {
      "text/plain": [
       "str"
      ]
     },
     "execution_count": 35,
     "metadata": {},
     "output_type": "execute_result"
    }
   ],
   "source": [
    "type(s)"
   ]
  },
  {
   "cell_type": "code",
   "execution_count": 37,
   "id": "abfc89c4",
   "metadata": {},
   "outputs": [
    {
     "data": {
      "text/plain": [
       "['P', 'y', 't', 'h', 'o', 'n']"
      ]
     },
     "execution_count": 37,
     "metadata": {},
     "output_type": "execute_result"
    }
   ],
   "source": [
    "list(s)"
   ]
  },
  {
   "cell_type": "code",
   "execution_count": 39,
   "id": "0f646222",
   "metadata": {},
   "outputs": [
    {
     "data": {
      "text/plain": [
       "'ytho'"
      ]
     },
     "execution_count": 39,
     "metadata": {},
     "output_type": "execute_result"
    }
   ],
   "source": [
    "s[1:-1]"
   ]
  },
  {
   "cell_type": "code",
   "execution_count": 40,
   "id": "a667b727",
   "metadata": {},
   "outputs": [
    {
     "ename": "TypeError",
     "evalue": "'str' object does not support item assignment",
     "output_type": "error",
     "traceback": [
      "\u001b[1;31m---------------------------------------------------------------------------\u001b[0m",
      "\u001b[1;31mTypeError\u001b[0m                                 Traceback (most recent call last)",
      "Cell \u001b[1;32mIn[40], line 1\u001b[0m\n\u001b[1;32m----> 1\u001b[0m s[\u001b[38;5;241m0\u001b[39m] \u001b[38;5;241m=\u001b[39m \u001b[38;5;124m'\u001b[39m\u001b[38;5;124mB\u001b[39m\u001b[38;5;124m'\u001b[39m\n",
      "\u001b[1;31mTypeError\u001b[0m: 'str' object does not support item assignment"
     ]
    }
   ],
   "source": [
    "s[0] = 'B'"
   ]
  },
  {
   "cell_type": "code",
   "execution_count": 46,
   "id": "13990c54",
   "metadata": {},
   "outputs": [
    {
     "data": {
      "text/plain": [
       "'12abc'"
      ]
     },
     "execution_count": 46,
     "metadata": {},
     "output_type": "execute_result"
    }
   ],
   "source": [
    "l1 = ['1', '2', 'abc']\n",
    "''.join(l1)"
   ]
  },
  {
   "cell_type": "code",
   "execution_count": 51,
   "id": "4cf71d5b",
   "metadata": {},
   "outputs": [],
   "source": [
    "s = '''Programming\n",
    "Language'''"
   ]
  },
  {
   "cell_type": "code",
   "execution_count": 52,
   "id": "5078480a",
   "metadata": {},
   "outputs": [
    {
     "data": {
      "text/plain": [
       "'Programming\\nLanguage'"
      ]
     },
     "execution_count": 52,
     "metadata": {},
     "output_type": "execute_result"
    }
   ],
   "source": [
    "s"
   ]
  },
  {
   "cell_type": "code",
   "execution_count": 53,
   "id": "89c21636",
   "metadata": {},
   "outputs": [
    {
     "data": {
      "text/plain": [
       "True"
      ]
     },
     "execution_count": 53,
     "metadata": {},
     "output_type": "execute_result"
    }
   ],
   "source": [
    "90 in [1, 2, 90]"
   ]
  },
  {
   "cell_type": "code",
   "execution_count": 54,
   "id": "aad03594",
   "metadata": {},
   "outputs": [
    {
     "data": {
      "text/plain": [
       "True"
      ]
     },
     "execution_count": 54,
     "metadata": {},
     "output_type": "execute_result"
    }
   ],
   "source": [
    "'mm' in 'programming'"
   ]
  },
  {
   "cell_type": "markdown",
   "id": "9e5ebfea",
   "metadata": {},
   "source": [
    "### Conditional Statements"
   ]
  },
  {
   "cell_type": "code",
   "execution_count": 55,
   "id": "944d8c21",
   "metadata": {},
   "outputs": [
    {
     "name": "stdout",
     "output_type": "stream",
     "text": [
      "f\n"
     ]
    }
   ],
   "source": [
    "m = 32\n",
    "if m < 40:\n",
    "    print('f')\n",
    "elif m < 60:\n",
    "    print('c')\n",
    "elif m < 75:\n",
    "    print('b')\n",
    "else:\n",
    "    print('a')"
   ]
  },
  {
   "cell_type": "markdown",
   "id": "1067d76a",
   "metadata": {},
   "source": [
    "### Loops"
   ]
  },
  {
   "cell_type": "code",
   "execution_count": 58,
   "id": "b8f4d1ff",
   "metadata": {},
   "outputs": [
    {
     "data": {
      "text/plain": [
       "{1, 2, 3, 4, 5}"
      ]
     },
     "execution_count": 58,
     "metadata": {},
     "output_type": "execute_result"
    }
   ],
   "source": [
    "s1"
   ]
  },
  {
   "cell_type": "code",
   "execution_count": 59,
   "id": "f0b680a6",
   "metadata": {},
   "outputs": [
    {
     "name": "stdout",
     "output_type": "stream",
     "text": [
      "1\n",
      "0\n",
      "1\n",
      "0\n",
      "1\n"
     ]
    }
   ],
   "source": [
    "for i in s1:\n",
    "    print(i % 2)"
   ]
  },
  {
   "cell_type": "code",
   "execution_count": 64,
   "id": "0243db5c",
   "metadata": {},
   "outputs": [
    {
     "name": "stdout",
     "output_type": "stream",
     "text": [
      "0\n",
      "1\n",
      "2\n",
      "3\n",
      "4\n",
      "5\n",
      "6\n",
      "7\n",
      "8\n",
      "9\n"
     ]
    }
   ],
   "source": [
    "for i in range(10):\n",
    "    print(i)"
   ]
  },
  {
   "cell_type": "code",
   "execution_count": 62,
   "id": "49c87e87",
   "metadata": {},
   "outputs": [
    {
     "name": "stdout",
     "output_type": "stream",
     "text": [
      "1\n",
      "4\n",
      "7\n"
     ]
    }
   ],
   "source": [
    "for i in range(1, 10, 3):\n",
    "    print(i)"
   ]
  },
  {
   "cell_type": "markdown",
   "id": "3bec0c34",
   "metadata": {},
   "source": [
    "### File Operations"
   ]
  },
  {
   "cell_type": "code",
   "execution_count": 65,
   "id": "50d85d6d",
   "metadata": {},
   "outputs": [],
   "source": [
    "import os"
   ]
  },
  {
   "cell_type": "code",
   "execution_count": 71,
   "id": "c3feef44",
   "metadata": {},
   "outputs": [
    {
     "data": {
      "text/plain": [
       "'C:\\\\Users\\\\arpan\\\\Documents\\\\python-training-edureka'"
      ]
     },
     "execution_count": 71,
     "metadata": {},
     "output_type": "execute_result"
    }
   ],
   "source": [
    "os.getcwd()"
   ]
  },
  {
   "cell_type": "code",
   "execution_count": 89,
   "id": "25fb5697",
   "metadata": {},
   "outputs": [],
   "source": [
    "file = open(r\"C:\\Users\\arpan\\Desktop\\India.txt\")"
   ]
  },
  {
   "cell_type": "code",
   "execution_count": 90,
   "id": "245bc390",
   "metadata": {},
   "outputs": [
    {
     "data": {
      "text/plain": [
       "'India is my country'"
      ]
     },
     "execution_count": 90,
     "metadata": {},
     "output_type": "execute_result"
    }
   ],
   "source": [
    "file.read()"
   ]
  },
  {
   "cell_type": "code",
   "execution_count": 91,
   "id": "c030f950",
   "metadata": {},
   "outputs": [
    {
     "data": {
      "text/plain": [
       "19"
      ]
     },
     "execution_count": 91,
     "metadata": {},
     "output_type": "execute_result"
    }
   ],
   "source": [
    "file.tell()"
   ]
  },
  {
   "cell_type": "code",
   "execution_count": 92,
   "id": "c9b4ba58",
   "metadata": {},
   "outputs": [],
   "source": [
    "file.close()"
   ]
  },
  {
   "cell_type": "code",
   "execution_count": 101,
   "id": "fe3d00ab",
   "metadata": {},
   "outputs": [],
   "source": [
    "file=open(r\"file.txt\", \"w\")"
   ]
  },
  {
   "cell_type": "code",
   "execution_count": 102,
   "id": "9e68fd07",
   "metadata": {},
   "outputs": [
    {
     "data": {
      "text/plain": [
       "12"
      ]
     },
     "execution_count": 102,
     "metadata": {},
     "output_type": "execute_result"
    }
   ],
   "source": [
    "file.write(\"Arpan Sardar\")"
   ]
  },
  {
   "cell_type": "code",
   "execution_count": 103,
   "id": "532664bc",
   "metadata": {},
   "outputs": [],
   "source": [
    "file.close()"
   ]
  },
  {
   "cell_type": "code",
   "execution_count": 99,
   "id": "0a58dd92",
   "metadata": {},
   "outputs": [],
   "source": [
    "file = open(\"python.txt\", \"w\")\n",
    "file.write(\"Python is open source\")\n",
    "file.close()"
   ]
  },
  {
   "cell_type": "code",
   "execution_count": 100,
   "id": "faef6935",
   "metadata": {},
   "outputs": [],
   "source": [
    "file = open(\"python.txt\", \"a\")\n",
    "file.write(\"\\nIt has community support\")\n",
    "file.close()"
   ]
  },
  {
   "cell_type": "code",
   "execution_count": 104,
   "id": "acb657b2",
   "metadata": {},
   "outputs": [],
   "source": [
    "os.rename(\"file.txt\", \"name.txt\")"
   ]
  },
  {
   "cell_type": "code",
   "execution_count": 106,
   "id": "504451a4",
   "metadata": {},
   "outputs": [],
   "source": [
    "os.remove(\"name.txt\")"
   ]
  },
  {
   "cell_type": "code",
   "execution_count": 107,
   "id": "d6c0580f",
   "metadata": {},
   "outputs": [
    {
     "data": {
      "text/plain": [
       "True"
      ]
     },
     "execution_count": 107,
     "metadata": {},
     "output_type": "execute_result"
    }
   ],
   "source": [
    "file.closed"
   ]
  },
  {
   "cell_type": "code",
   "execution_count": 108,
   "id": "0e545648",
   "metadata": {},
   "outputs": [
    {
     "data": {
      "text/plain": [
       "'w'"
      ]
     },
     "execution_count": 108,
     "metadata": {},
     "output_type": "execute_result"
    }
   ],
   "source": [
    "file.mode"
   ]
  },
  {
   "cell_type": "code",
   "execution_count": 109,
   "id": "7ed49c13",
   "metadata": {},
   "outputs": [
    {
     "data": {
      "text/plain": [
       "'file.txt'"
      ]
     },
     "execution_count": 109,
     "metadata": {},
     "output_type": "execute_result"
    }
   ],
   "source": [
    "file.name"
   ]
  },
  {
   "cell_type": "code",
   "execution_count": 111,
   "id": "fa6b8798",
   "metadata": {},
   "outputs": [],
   "source": [
    "file = open(\"python.txt\")"
   ]
  },
  {
   "cell_type": "code",
   "execution_count": 112,
   "id": "3edb01c6",
   "metadata": {},
   "outputs": [
    {
     "data": {
      "text/plain": [
       "1"
      ]
     },
     "execution_count": 112,
     "metadata": {},
     "output_type": "execute_result"
    }
   ],
   "source": [
    "file.seek(1)"
   ]
  },
  {
   "cell_type": "code",
   "execution_count": 113,
   "id": "25d7771b",
   "metadata": {},
   "outputs": [
    {
     "data": {
      "text/plain": [
       "1"
      ]
     },
     "execution_count": 113,
     "metadata": {},
     "output_type": "execute_result"
    }
   ],
   "source": [
    "file.tell()"
   ]
  },
  {
   "cell_type": "code",
   "execution_count": 114,
   "id": "3eef2e62",
   "metadata": {},
   "outputs": [],
   "source": [
    "file.close()"
   ]
  },
  {
   "cell_type": "code",
   "execution_count": null,
   "id": "13a3495a",
   "metadata": {},
   "outputs": [],
   "source": []
  },
  {
   "cell_type": "markdown",
   "id": "fe2531e3",
   "metadata": {},
   "source": [
    "### Functions"
   ]
  },
  {
   "cell_type": "code",
   "execution_count": null,
   "id": "7b2e552d",
   "metadata": {},
   "outputs": [],
   "source": []
  }
 ],
 "metadata": {
  "kernelspec": {
   "display_name": "Python 3 (ipykernel)",
   "language": "python",
   "name": "python3"
  },
  "language_info": {
   "codemirror_mode": {
    "name": "ipython",
    "version": 3
   },
   "file_extension": ".py",
   "mimetype": "text/x-python",
   "name": "python",
   "nbconvert_exporter": "python",
   "pygments_lexer": "ipython3",
   "version": "3.10.8"
  }
 },
 "nbformat": 4,
 "nbformat_minor": 5
}
