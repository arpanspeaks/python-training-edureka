{
 "cells": [
  {
   "cell_type": "code",
   "execution_count": 8,
   "id": "3be03dd8",
   "metadata": {},
   "outputs": [],
   "source": [
    "import cv2"
   ]
  },
  {
   "cell_type": "code",
   "execution_count": 9,
   "id": "1d10b049",
   "metadata": {},
   "outputs": [],
   "source": [
    "img = cv2.imread(\"mountain.jpg\")"
   ]
  },
  {
   "cell_type": "code",
   "execution_count": 10,
   "id": "1333e516",
   "metadata": {},
   "outputs": [],
   "source": [
    "cv2.imshow(\"Show Image\", img)\n",
    "cv2.waitKey(0)\n",
    "cv2.destroyAllWindows()"
   ]
  },
  {
   "cell_type": "code",
   "execution_count": 11,
   "id": "152aaa62",
   "metadata": {},
   "outputs": [
    {
     "data": {
      "text/plain": [
       "array([[[177, 168, 148],\n",
       "        [129, 120, 100],\n",
       "        [121, 107,  88],\n",
       "        ...,\n",
       "        [ 62,  66,  61],\n",
       "        [ 62,  63,  59],\n",
       "        [ 47,  48,  44]],\n",
       "\n",
       "       [[211, 202, 182],\n",
       "        [222, 213, 193],\n",
       "        [179, 168, 148],\n",
       "        ...,\n",
       "        [ 80,  84,  79],\n",
       "        [ 61,  62,  58],\n",
       "        [ 77,  78,  74]],\n",
       "\n",
       "       [[209, 200, 180],\n",
       "        [219, 210, 190],\n",
       "        [196, 186, 168],\n",
       "        ...,\n",
       "        [ 73,  76,  74],\n",
       "        [ 71,  74,  72],\n",
       "        [ 67,  70,  68]],\n",
       "\n",
       "       ...,\n",
       "\n",
       "       [[  1,  34,  30],\n",
       "        [  0,  25,  19],\n",
       "        [  1,  35,  28],\n",
       "        ...,\n",
       "        [ 80, 176, 165],\n",
       "        [ 18, 137, 129],\n",
       "        [ 62, 191, 186]],\n",
       "\n",
       "       [[  0,  19,  16],\n",
       "        [  0,  27,  24],\n",
       "        [  0,  32,  31],\n",
       "        ...,\n",
       "        [ 51, 157, 144],\n",
       "        [ 79, 201, 195],\n",
       "        [ 63, 194, 191]],\n",
       "\n",
       "       [[ 35,  91,  86],\n",
       "        [ 85, 138, 135],\n",
       "        [ 79, 129, 129],\n",
       "        ...,\n",
       "        [  0,  91,  77],\n",
       "        [ 38, 164, 158],\n",
       "        [ 66, 199, 196]]], dtype=uint8)"
      ]
     },
     "execution_count": 11,
     "metadata": {},
     "output_type": "execute_result"
    }
   ],
   "source": [
    "img"
   ]
  },
  {
   "cell_type": "code",
   "execution_count": 12,
   "id": "faca6a70",
   "metadata": {},
   "outputs": [
    {
     "data": {
      "text/plain": [
       "(440, 800, 3)"
      ]
     },
     "execution_count": 12,
     "metadata": {},
     "output_type": "execute_result"
    }
   ],
   "source": [
    "img.shape"
   ]
  },
  {
   "cell_type": "code",
   "execution_count": 13,
   "id": "a0f99f6a",
   "metadata": {},
   "outputs": [],
   "source": [
    "img_1 = cv2.imread(\"mountain.jpg\", 0)"
   ]
  },
  {
   "cell_type": "code",
   "execution_count": 14,
   "id": "e4045f52",
   "metadata": {},
   "outputs": [],
   "source": [
    "cv2.imshow(\"Color\", img)\n",
    "cv2.imshow(\"Gray Scale\", img_1)\n",
    "cv2.waitKey(0)\n",
    "cv2.destroyAllWindows()"
   ]
  },
  {
   "cell_type": "code",
   "execution_count": 15,
   "id": "d5da744f",
   "metadata": {},
   "outputs": [],
   "source": [
    "img_resized = cv2.resize(img, (400, 220))\n",
    "cv2.imshow(\"Color\", img)\n",
    "cv2.imshow(\"Resized\", img_resized)\n",
    "cv2.waitKey(0)\n",
    "cv2.destroyAllWindows()"
   ]
  },
  {
   "cell_type": "code",
   "execution_count": 16,
   "id": "393e45f5",
   "metadata": {},
   "outputs": [
    {
     "data": {
      "text/plain": [
       "True"
      ]
     },
     "execution_count": 16,
     "metadata": {},
     "output_type": "execute_result"
    }
   ],
   "source": [
    "cv2.imwrite(\"mountains_gray_scaled.png\", img_1)"
   ]
  },
  {
   "cell_type": "code",
   "execution_count": null,
   "id": "8f71c642",
   "metadata": {},
   "outputs": [],
   "source": []
  },
  {
   "cell_type": "markdown",
   "id": "b57fc4b2",
   "metadata": {},
   "source": [
    "## Face Detection"
   ]
  },
  {
   "cell_type": "code",
   "execution_count": 17,
   "id": "5e66e181",
   "metadata": {},
   "outputs": [],
   "source": [
    "face_cas = cv2.CascadeClassifier(\"haarcascade_frontalface_default.xml\")"
   ]
  },
  {
   "cell_type": "code",
   "execution_count": 18,
   "id": "5ace4ce2",
   "metadata": {},
   "outputs": [],
   "source": [
    "pic = cv2.imread(\"multiple-faces.jpg\")"
   ]
  },
  {
   "cell_type": "code",
   "execution_count": 19,
   "id": "91d08a34",
   "metadata": {},
   "outputs": [],
   "source": [
    "pic_gray = cv2.cvtColor(pic,cv2.COLOR_BGR2GRAY)"
   ]
  },
  {
   "cell_type": "code",
   "execution_count": 20,
   "id": "71fb5f2d",
   "metadata": {},
   "outputs": [],
   "source": [
    "faces = face_cas.detectMultiScale(pic_gray, scaleFactor=1.05, minNeighbors=5)"
   ]
  },
  {
   "cell_type": "code",
   "execution_count": 21,
   "id": "4b151260",
   "metadata": {},
   "outputs": [],
   "source": [
    "for x, y, w, h in faces:\n",
    "    res = cv2.rectangle(pic, (x, y), (x + w, y + h), (0, 255, 0), 3)"
   ]
  },
  {
   "cell_type": "code",
   "execution_count": 22,
   "id": "2328ac0f",
   "metadata": {},
   "outputs": [],
   "source": [
    "cv2.imshow(\"Color\", pic)\n",
    "cv2.waitKey(0)\n",
    "cv2.destroyAllWindows()"
   ]
  },
  {
   "cell_type": "code",
   "execution_count": null,
   "id": "f3bc8ee7",
   "metadata": {},
   "outputs": [],
   "source": [
    "# videos\n",
    "\n",
    "cap = cv2.VideoCapture(0)\n",
    "while True:\n",
    "    _,img = cap.read()\n",
    "    img_gray = cv2.cvtColor(img,cv2.COLOR_BGR2GRAY)\n",
    "    faces = face_cas.detectMultiScale(img_gray, scaleFactor=1.05,minNeighbors=5)\n",
    "    for x,y,w,h in faces:\n",
    "        res = cv2.rectangle(img,(x,y),(x+w,y+h),(0,255,0),3)\n",
    "    \n",
    "    \n",
    "    cv2.imshow(\"Detection\",res)\n",
    "    \n",
    "    key = cv2.waitKey(1) # wait 1ms the loop will start again and we will process the next frame\n",
    "    \n",
    "    if key == 27: # esc key stops the process\n",
    "        break;\n",
    "    \n",
    "cap.release()    \n",
    "cv2.destroyAllWindows()"
   ]
  },
  {
   "cell_type": "code",
   "execution_count": null,
   "id": "e238175f",
   "metadata": {},
   "outputs": [],
   "source": []
  }
 ],
 "metadata": {
  "kernelspec": {
   "display_name": "Python 3 (ipykernel)",
   "language": "python",
   "name": "python3"
  },
  "language_info": {
   "codemirror_mode": {
    "name": "ipython",
    "version": 3
   },
   "file_extension": ".py",
   "mimetype": "text/x-python",
   "name": "python",
   "nbconvert_exporter": "python",
   "pygments_lexer": "ipython3",
   "version": "3.10.8"
  }
 },
 "nbformat": 4,
 "nbformat_minor": 5
}
